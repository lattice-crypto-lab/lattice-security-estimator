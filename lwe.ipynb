{
 "cells": [
  {
   "cell_type": "code",
   "execution_count": 11,
   "metadata": {},
   "outputs": [],
   "source": [
    "from estimator.estimator import *\n",
    "from utils import *"
   ]
  },
  {
   "cell_type": "code",
   "execution_count": 14,
   "metadata": {},
   "outputs": [],
   "source": [
    "# LWE\n",
    "n = 512\n",
    "\n",
    "# q = 2**13\n",
    "# lwe_key_type = \"Binary\"\n",
    "# lwe_noise_stddev = 3.2\n",
    "# lwe_key_distribution = ND.SparseBinary(n // 2, n)\n",
    "\n",
    "q = 2**14\n",
    "lwe_key_type = \"Ternary\"\n",
    "lwe_noise_stddev = 3.2\n",
    "lwe_key_distribution = ND.SparseTernary(n // 4, n // 4, n)"
   ]
  },
  {
   "cell_type": "code",
   "execution_count": 15,
   "metadata": {},
   "outputs": [
    {
     "name": "stdout",
     "output_type": "stream",
     "text": [
      "LWEParameters(n=512, q=16384, Xs=T(p=128, m=128, n=512), Xe=D(σ=3.20), m=+Infinity, tag=None)\n",
      "usvp                 :: rop: ≈2^128.8, red: ≈2^128.8, δ: 1.004443, β: 341, d: 929, tag: usvp\n",
      "bdd                  :: rop: ≈2^124.3, red: ≈2^123.8, svp: ≈2^122.4, β: 324, η: 363, d: 909, tag: bdd\n",
      "dual                 :: rop: ≈2^133.3, mem: ≈2^82.3, m: 476, β: 356, d: 988, ↻: 1, tag: dual\n",
      "shape: (1, 7)\n",
      "┌───────────┬─────────┬──────────────┬───────────────┬──────────────┬───────────────┬──────────────┐\n",
      "│ dimension ┆ modulus ┆ secret_distr ┆ secret_stddev ┆ noise_stddev ┆ security_bits ┆ datetime     │\n",
      "│ ---       ┆ ---     ┆ ---          ┆ ---           ┆ ---          ┆ ---           ┆ ---          │\n",
      "│ u64       ┆ u64     ┆ str          ┆ f64           ┆ f64          ┆ f64           ┆ datetime[μs] │\n",
      "╞═══════════╪═════════╪══════════════╪═══════════════╪══════════════╪═══════════════╪══════════════╡\n",
      "│ 512       ┆ 16384   ┆ Ternary      ┆ 0.707107      ┆ 3.2          ┆ 124.288766    ┆ 2024-12-04   │\n",
      "│           ┆         ┆              ┆               ┆              ┆               ┆ 18:51:20.504 │\n",
      "│           ┆         ┆              ┆               ┆              ┆               ┆ 488          │\n",
      "└───────────┴─────────┴──────────────┴───────────────┴──────────────┴───────────────┴──────────────┘\n"
     ]
    }
   ],
   "source": [
    "check_security_with_data(\n",
    "    n, q, lwe_key_type, lwe_key_distribution, lwe_noise_stddev\n",
    ")"
   ]
  }
 ],
 "metadata": {
  "kernelspec": {
   "display_name": "sage",
   "language": "python",
   "name": "python3"
  },
  "language_info": {
   "codemirror_mode": {
    "name": "ipython",
    "version": 3
   },
   "file_extension": ".py",
   "mimetype": "text/x-python",
   "name": "python",
   "nbconvert_exporter": "python",
   "pygments_lexer": "ipython3",
   "version": "3.11.10"
  }
 },
 "nbformat": 4,
 "nbformat_minor": 2
}
