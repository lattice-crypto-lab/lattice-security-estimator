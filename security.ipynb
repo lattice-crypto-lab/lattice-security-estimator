{
 "cells": [
  {
   "cell_type": "code",
   "execution_count": 20,
   "metadata": {},
   "outputs": [],
   "source": [
    "import math\n",
    "from estimator import *"
   ]
  },
  {
   "cell_type": "code",
   "execution_count": 21,
   "metadata": {},
   "outputs": [],
   "source": [
    "e = 3.20 # For LWE and RLWE\n",
    "e_distribution = ND.DiscreteGaussian(e)\n",
    "# e_distribution = ND.CenteredBinomial(21)\n",
    "\n",
    "# LWE\n",
    "n = 512\n",
    "q = 1024\n",
    "\n",
    "# RLWE\n",
    "N = n * 2\n",
    "Q = 132120577\n",
    "logQ = Q.bit_count()\n",
    "r_distribution = ND.Uniform(0, Q - 1)\n",
    "# r_distribution = ND.UniformMod(Q)\n",
    "\n",
    "# key switching\n",
    "e_key_switching = 3.20 * (1 << 5)"
   ]
  },
  {
   "cell_type": "code",
   "execution_count": 22,
   "metadata": {},
   "outputs": [
    {
     "name": "stdout",
     "output_type": "stream",
     "text": [
      "LWEParameters(n=512, q=1024, Xs=D(σ=0.71), Xe=D(σ=3.20), m=+Infinity, tag=None)\n",
      "bkw                  :: rop: ≈2^155.1, m: ≈2^143.0, mem: ≈2^143.9, b: 14, t1: 0, t2: 15, ℓ: 13, #cod: 434, #top: 1, #test: 77, tag: coded-bkw\n",
      "usvp                 :: rop: ≈2^174.3, red: ≈2^174.3, δ: 1.003319, β: 518, d: 901, tag: usvp\n",
      "bdd                  :: rop: ≈2^170.7, red: ≈2^170.4, svp: ≈2^168.3, β: 504, η: 527, d: 875, tag: bdd\n",
      "dual                 :: rop: ≈2^184.3, mem: ≈2^121.5, m: 424, β: 550, d: 936, ↻: 1, tag: dual\n",
      "dual_hybrid          :: rop: ≈2^164.6, red: ≈2^164.2, guess: ≈2^162.5, β: 477, p: 3, ζ: 5, t: 85, β': 474, N: ≈2^98.1, m: 512\n",
      "lwe_security=155.05130476194728\n"
     ]
    }
   ],
   "source": [
    "lwe_param = LWE.Parameters(n=n, q=q, Xs=ND.SparseTernary(n, p=n // 4), Xe=e_distribution)\n",
    "print(lwe_param)\n",
    "try:\n",
    "    lwe_result = LWE.estimate(\n",
    "        lwe_param,\n",
    "        deny_list=(\n",
    "            # \"arora-gb\",\n",
    "            # \"bkw\",\n",
    "        ),\n",
    "        jobs=8,\n",
    "    )\n",
    "except:\n",
    "    print(\"e=\", e)\n",
    "    print(\"Error Occur!\")\n",
    "else:\n",
    "    lwe_security = min([math.log(res.get(\"rop\", 0), 2) for res in lwe_result.values()])\n",
    "    # print(\"n={}\".format(n))\n",
    "    # print(\"q={}\".format(q))\n",
    "    # print(\"e={}\".format(e))\n",
    "    print(\"lwe_security={}\".format(lwe_security))"
   ]
  },
  {
   "cell_type": "code",
   "execution_count": 23,
   "metadata": {},
   "outputs": [
    {
     "name": "stdout",
     "output_type": "stream",
     "text": [
      "LWEParameters(n=1024, q=132120577, Xs=D(σ=38139925.35, μ=66060288.00), Xe=D(σ=3.20), m=+Infinity, tag=None)\n",
      "bkw                  :: rop: ≈2^288.3, m: ≈2^274.2, mem: ≈2^275.2, b: 10, t1: 1, t2: 41, ℓ: 9, #cod: 950, #top: 0, #test: 64, tag: coded-bkw\n",
      "usvp                 :: rop: ≈2^139.5, red: ≈2^139.5, δ: 1.004089, β: 385, d: 2094, tag: usvp\n",
      "bdd                  :: rop: ≈2^137.7, red: ≈2^137.3, svp: ≈2^135.4, β: 377, η: 409, d: 2109, tag: bdd\n",
      "dual                 :: rop: ≈2^142.7, mem: ≈2^91.9, m: 1158, β: 393, d: 2182, ↻: 1, tag: dual\n",
      "dual_hybrid          :: rop: ≈2^141.9, red: ≈2^141.9, guess: ≈2^134.5, β: 390, p: 3, ζ: 10, t: 0, β': 399, N: ≈2^80.7, m: 1024\n",
      "n=512\n",
      "N=1024\n",
      "logQ=7\n",
      "rlwe_security=137.65542864956117\n"
     ]
    }
   ],
   "source": [
    "rlwe_param = LWE.Parameters(n=N, q=Q, Xs=r_distribution, Xe=e_distribution)\n",
    "print(rlwe_param)\n",
    "try:\n",
    "    # rlwe_result = LWE.estimate.rough(\n",
    "    #     rlwe_param,\n",
    "    #     jobs=8,\n",
    "    # )\n",
    "    # \"arora-gb\",\"bkw\",\"usvp\",\"bdd\",\"bdd_hybrid\",\"bdd_mitm_hybrid\",\"dual\",\"dual_hybrid\",\"dual_mitm_hybrid\"\n",
    "    rlwe_result = LWE.estimate(\n",
    "        rlwe_param,\n",
    "        deny_list=(\n",
    "            # \"arora-gb\",\n",
    "            # \"bkw\",\n",
    "        ),\n",
    "        jobs=8,\n",
    "    )\n",
    "except:\n",
    "    print(\"e=\", e)\n",
    "    print(\"Error Occur!\")\n",
    "else:\n",
    "    rlwe_security = min([math.log(res.get(\"rop\", 0), 2) for res in rlwe_result.values()])\n",
    "    print(\"n={}\".format(n))\n",
    "    print(\"N={}\".format(N))\n",
    "    print(\"logQ={}\".format(logQ))\n",
    "    print(\"rlwe_security={}\".format(rlwe_security))\n",
    "    # print(\"expect_security={}\".format(expect_security))\n",
    "    # if rlwe_security >= expect_security:\n",
    "    #     print(\"Success!\")"
   ]
  },
  {
   "cell_type": "code",
   "execution_count": 24,
   "metadata": {},
   "outputs": [
    {
     "name": "stdout",
     "output_type": "stream",
     "text": [
      "LWEParameters(n=512, q=132120577, Xs=D(σ=38139925.35, μ=66060288.00), Xe=D(σ=102.40), m=+Infinity, tag=None)\n",
      "bkw                  :: rop: ≈2^259.8, m: ≈2^247.0, mem: ≈2^248.0, b: 9, t1: 7, t2: 29, ℓ: 8, #cod: 431, #top: 0, #test: 23, tag: coded-bkw\n",
      "usvp                 :: rop: ≈2^107.5, red: ≈2^107.5, δ: 1.005166, β: 272, d: 1320, tag: usvp\n",
      "bdd                  :: rop: ≈2^105.6, red: ≈2^105.0, svp: ≈2^103.8, β: 263, η: 295, d: 1336, tag: bdd\n",
      "dual                 :: rop: ≈2^110.3, mem: ≈2^68.8, m: 861, β: 278, d: 1373, ↻: 1, tag: dual\n",
      "dual_hybrid          :: rop: ≈2^122.7, red: ≈2^122.7, guess: ≈2^92.3, β: 325, p: 3, ζ: 0, t: 0, β': 334, N: ≈2^68.6, m: 512\n",
      "n=512\n",
      "N=1024\n",
      "logQ=7\n",
      "rlwe_security=105.55822863045911\n"
     ]
    }
   ],
   "source": [
    "key_switching = LWE.Parameters(n=n, q=Q, Xs=r_distribution, Xe=ND.DiscreteGaussian(e_key_switching))\n",
    "print(key_switching)\n",
    "try:\n",
    "    # rlwe_result = LWE.estimate.rough(\n",
    "    #     key_switching,\n",
    "    #     jobs=8,\n",
    "    # )\n",
    "    # \"arora-gb\",\"bkw\",\"usvp\",\"bdd\",\"bdd_hybrid\",\"bdd_mitm_hybrid\",\"dual\",\"dual_hybrid\",\"dual_mitm_hybrid\"\n",
    "    rlwe_result = LWE.estimate(\n",
    "        key_switching,\n",
    "        deny_list=(\n",
    "            # \"arora-gb\",\n",
    "            # \"bkw\",\n",
    "        ),\n",
    "        jobs=8,\n",
    "    )\n",
    "except:\n",
    "    print(\"e=\", e)\n",
    "    print(\"Error Occur!\")\n",
    "else:\n",
    "    rlwe_security = min([math.log(res.get(\"rop\", 0), 2) for res in rlwe_result.values()])\n",
    "    print(\"n={}\".format(n))\n",
    "    print(\"N={}\".format(N))\n",
    "    print(\"logQ={}\".format(logQ))\n",
    "    print(\"rlwe_security={}\".format(rlwe_security))"
   ]
  }
 ],
 "metadata": {
  "kernelspec": {
   "display_name": "Python 3 (ipykernel)",
   "language": "python",
   "name": "python3"
  },
  "language_info": {
   "codemirror_mode": {
    "name": "ipython",
    "version": 3
   },
   "file_extension": ".py",
   "mimetype": "text/x-python",
   "name": "python",
   "nbconvert_exporter": "python",
   "pygments_lexer": "ipython3",
   "version": "3.10.12"
  }
 },
 "nbformat": 4,
 "nbformat_minor": 2
}
