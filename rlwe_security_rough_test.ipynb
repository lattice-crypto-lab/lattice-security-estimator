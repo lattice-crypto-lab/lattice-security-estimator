{
 "cells": [
  {
   "cell_type": "code",
   "execution_count": 6,
   "metadata": {},
   "outputs": [],
   "source": [
    "import math\n",
    "from estimator import *"
   ]
  },
  {
   "cell_type": "code",
   "execution_count": 7,
   "metadata": {},
   "outputs": [],
   "source": [
    "Q_dict = {512: {128: 27, 192: 19, 256: 14}, 1024: {128: 54, 192: 37, 256: 29}, 2048: {128: 109, 192: 75, 256: 58}}"
   ]
  },
  {
   "cell_type": "code",
   "execution_count": 12,
   "metadata": {},
   "outputs": [],
   "source": [
    "expect_security = 128\n",
    "e = 3.19\n",
    "\n",
    "n = 2**11\n",
    "N = n * 2"
   ]
  },
  {
   "cell_type": "code",
   "execution_count": 14,
   "metadata": {},
   "outputs": [
    {
     "name": "stdout",
     "output_type": "stream",
     "text": [
      "LWEParameters(n=4096, q=81129638414606681695789005144064, Xs=D(σ=3.19), Xe=D(σ=3.19), m=+Infinity, tag=None)\n",
      "usvp                 :: rop: ≈2^102.2, red: ≈2^102.2, δ: 1.004365, β: 350, d: 8165, tag: usvp\n",
      "dual_hybrid          :: rop: ≈2^102.8, mem: ≈2^91.2, m: ≈2^12.0, β: 352, d: 8326, ↻: 1, ζ: 3, tag: dual_hybrid\n",
      "n=2048\n",
      "N=4096\n",
      "logQ=106\n",
      "rlwe_security=102.19999999999999\n",
      "expect_security=128\n"
     ]
    }
   ],
   "source": [
    "logQ = Q_dict[n][expect_security]\n",
    "i = 3\n",
    "\n",
    "Q = 2 ** (logQ - i)\n",
    "\n",
    "rlwe_param = LWE.Parameters(n=N, q=Q, Xs=ND.DiscreteGaussian(e), Xe=ND.DiscreteGaussian(e))\n",
    "print(rlwe_param)\n",
    "try:\n",
    "    rlwe_result = LWE.estimate.rough(rlwe_param, jobs=4)\n",
    "except:\n",
    "    print(\"e=\", e)\n",
    "    print(\"Error Occur!\")\n",
    "else:\n",
    "    rlwe_security = min([math.log(res.get(\"rop\", 0), 2) for res in rlwe_result.values()])\n",
    "    print(\"n={}\".format(n))\n",
    "    print(\"N={}\".format(N))\n",
    "    print(\"logQ={}\".format(logQ - i))\n",
    "    print(\"rlwe_security={}\".format(rlwe_security))\n",
    "    print(\"expect_security={}\".format(expect_security))\n",
    "    if rlwe_security >= expect_security:\n",
    "        print(\"Success!\")"
   ]
  }
 ],
 "metadata": {
  "kernelspec": {
   "display_name": "Python 3",
   "language": "python",
   "name": "python3"
  },
  "language_info": {
   "codemirror_mode": {
    "name": "ipython",
    "version": 3
   },
   "file_extension": ".py",
   "mimetype": "text/x-python",
   "name": "python",
   "nbconvert_exporter": "python",
   "pygments_lexer": "ipython3",
   "version": "3.10.12"
  },
  "orig_nbformat": 4
 },
 "nbformat": 4,
 "nbformat_minor": 2
}
