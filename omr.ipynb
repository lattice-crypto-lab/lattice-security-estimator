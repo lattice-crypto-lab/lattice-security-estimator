{
 "cells": [
  {
   "cell_type": "code",
   "execution_count": 1,
   "metadata": {},
   "outputs": [],
   "source": [
    "import math\n",
    "import os\n",
    "\n",
    "import polars as pl\n",
    "import datetime as dt\n",
    "\n",
    "from estimator.estimator import *\n",
    "from estimator.estimator.nd import NoiseDistribution"
   ]
  },
  {
   "cell_type": "code",
   "execution_count": 2,
   "metadata": {},
   "outputs": [],
   "source": [
    "jobs = 16\n",
    "expect_security = 128\n",
    "\n",
    "# bits - log poly length\n",
    "Q27_10 = 134215681\n",
    "Q27_11 = 134176769\n",
    "Q27_20 = 132120577\n",
    "\n",
    "Q29_10 = 536856577\n",
    "Q29_11 = 536813569\n",
    "\n",
    "Q51_11 = 2251799813640193\n",
    "Q54_11 = 18014398509404161\n",
    "Q56_11 = 72057594037641217"
   ]
  },
  {
   "cell_type": "code",
   "execution_count": 3,
   "metadata": {},
   "outputs": [
    {
     "name": "stdout",
     "output_type": "stream",
     "text": [
      "shape: (5, 7)\n",
      "┌───────────┬──────────────┬──────────────┬──────────────┬─────────────┬─────────────┬─────────────┐\n",
      "│ dimension ┆ modulus      ┆ secret_distr ┆ secret_stdde ┆ noise_stdde ┆ security_bi ┆ datetime    │\n",
      "│ ---       ┆ ---          ┆ ---          ┆ v            ┆ v           ┆ ts          ┆ ---         │\n",
      "│ u64       ┆ u64          ┆ str          ┆ ---          ┆ ---         ┆ ---         ┆ datetime[μs │\n",
      "│           ┆              ┆              ┆ f64          ┆ f64         ┆ f64         ┆ ]           │\n",
      "╞═══════════╪══════════════╪══════════════╪══════════════╪═════════════╪═════════════╪═════════════╡\n",
      "│ 512       ┆ 2048         ┆ Binary       ┆ 0.5          ┆ 0.83        ┆ 128.025423  ┆ 2024-11-27  │\n",
      "│           ┆              ┆              ┆              ┆             ┆             ┆ 16:46:26.99 │\n",
      "│           ┆              ┆              ┆              ┆             ┆             ┆ 4831        │\n",
      "│ 512       ┆ 2048         ┆ Ternary      ┆ 0.707107     ┆ 0.63        ┆ 128.190022  ┆ 2024-11-27  │\n",
      "│           ┆              ┆              ┆              ┆             ┆             ┆ 17:00:08.18 │\n",
      "│           ┆              ┆              ┆              ┆             ┆             ┆ 8246        │\n",
      "│ 1024      ┆ 134215681    ┆ Binary       ┆ 0.5          ┆ 4.49        ┆ 128.247523  ┆ 2024-11-27  │\n",
      "│           ┆              ┆              ┆              ┆             ┆             ┆ 16:46:29.48 │\n",
      "│           ┆              ┆              ┆              ┆             ┆             ┆ 6929        │\n",
      "│ 1024      ┆ 134215681    ┆ Ternary      ┆ 0.707107     ┆ 3.2         ┆ 128.034311  ┆ 2024-11-27  │\n",
      "│           ┆              ┆              ┆              ┆             ┆             ┆ 17:00:10.45 │\n",
      "│           ┆              ┆              ┆              ┆             ┆             ┆ 0119        │\n",
      "│ 2048      ┆ 180143985094 ┆ Binary       ┆ 0.5          ┆ 4.63        ┆ 128.040293  ┆ 2024-11-27  │\n",
      "│           ┆ 04161        ┆              ┆              ┆             ┆             ┆ 16:46:32.82 │\n",
      "│           ┆              ┆              ┆              ┆             ┆             ┆ 3538        │\n",
      "└───────────┴──────────────┴──────────────┴──────────────┴─────────────┴─────────────┴─────────────┘\n"
     ]
    }
   ],
   "source": [
    "data_path = \"./security_result.parquet\"\n",
    "# data_path = \"./test.parquet\"\n",
    "\n",
    "schema = {\n",
    "    \"dimension\": pl.UInt64,\n",
    "    \"modulus\": pl.UInt64,\n",
    "    \"secret_distr\": pl.String,\n",
    "    \"secret_stddev\": pl.Float64,\n",
    "    \"noise_stddev\": pl.Float64,\n",
    "    \"security_bits\": pl.Float64,\n",
    "    \"datetime\": pl.Datetime,\n",
    "}\n",
    "\n",
    "if not os.path.exists(data_path):\n",
    "    df = pl.DataFrame(None, schema)\n",
    "    df.write_parquet(data_path)\n",
    "\n",
    "df = pl.read_parquet(data_path)\n",
    "print(\n",
    "    df.filter(pl.col(\"security_bits\") >= expect_security)\n",
    "    .sort([\"dimension\", \"modulus\"])\n",
    "    .head()\n",
    ")"
   ]
  },
  {
   "cell_type": "code",
   "execution_count": 4,
   "metadata": {},
   "outputs": [],
   "source": [
    "def write_to_data(\n",
    "    dimension: int,\n",
    "    modulus: int,\n",
    "    secret_type: str,\n",
    "    secret_distr: NoiseDistribution,\n",
    "    noise_stddev,\n",
    "    security,\n",
    "):\n",
    "    new = pl.DataFrame(\n",
    "        {\n",
    "            \"dimension\": [dimension],\n",
    "            \"modulus\": [modulus],\n",
    "            \"secret_distr\": [secret_type],\n",
    "            \"secret_stddev\": [secret_distr.stddev],\n",
    "            \"noise_stddev\": [noise_stddev],\n",
    "            \"security_bits\": [security],\n",
    "            \"datetime\": [dt.datetime.now()],\n",
    "        },\n",
    "        schema,\n",
    "    )\n",
    "    print(new)\n",
    "    df.extend(new)\n",
    "    df.write_parquet(data_path)"
   ]
  },
  {
   "cell_type": "code",
   "execution_count": 5,
   "metadata": {},
   "outputs": [],
   "source": [
    "def print_uncheck(\n",
    "    dimension: int,\n",
    "    modulus: int,\n",
    "    secret_type: str,\n",
    "    secret_distr: NoiseDistribution,\n",
    "    noise_stddev,\n",
    "    security,\n",
    "    pat: str,\n",
    "):\n",
    "    uncheck = pl.DataFrame(\n",
    "        {\n",
    "            \"dimension\": [dimension],\n",
    "            \"modulus\": [modulus],\n",
    "            \"secret_distr\": [secret_type],\n",
    "            \"secret_stddev\": [secret_distr.stddev],\n",
    "            \"noise_stddev\": [noise_stddev],\n",
    "            \"security_bits\": [pat.format(security)],\n",
    "        },\n",
    "    )\n",
    "    print(uncheck)"
   ]
  },
  {
   "cell_type": "code",
   "execution_count": 6,
   "metadata": {},
   "outputs": [],
   "source": [
    "def check_security(\n",
    "    dimension: int,\n",
    "    modulus: int,\n",
    "    secret_distr: NoiseDistribution,\n",
    "    noise_stddev,\n",
    "    is_quantum=False,\n",
    "):\n",
    "    param = LWE.Parameters(\n",
    "        n=dimension, q=modulus, Xs=secret_distr, Xe=ND.DiscreteGaussian(noise_stddev)\n",
    "    )\n",
    "    print(param)\n",
    "\n",
    "    try:\n",
    "        result = LWE.estimate(\n",
    "            param,\n",
    "            red_cost_model=(RC.LaaMosPol14 if is_quantum else RC.BDGL16),\n",
    "            deny_list=(\n",
    "                \"arora-gb\",\n",
    "                \"bkw\",\n",
    "                \"bdd_hybrid\",\n",
    "                \"bdd_mitm_hybrid\",\n",
    "                \"dual_hybrid\",\n",
    "                \"dual_mitm_hybrid\",\n",
    "            ),\n",
    "            jobs=jobs,\n",
    "        )\n",
    "    except Exception as err:\n",
    "        print(\"err=\", err)\n",
    "        print(\"Error Occur!\")\n",
    "    else:\n",
    "        return min([math.log(res.get(\"rop\", 0), 2) for res in result.values()])"
   ]
  },
  {
   "cell_type": "code",
   "execution_count": 7,
   "metadata": {},
   "outputs": [],
   "source": [
    "def check_security_with_data(\n",
    "    dimension: int,\n",
    "    modulus: int,\n",
    "    secret_type: str,\n",
    "    secret_distr: NoiseDistribution,\n",
    "    noise_stddev,\n",
    "    force_run_estimate: bool = False,\n",
    "):\n",
    "    if force_run_estimate:\n",
    "        security = check_security(dimension, modulus, secret_distr, noise_stddev)\n",
    "        write_to_data(\n",
    "            dimension, modulus, secret_type, secret_distr, noise_stddev, security\n",
    "        )\n",
    "        return\n",
    "\n",
    "    temp = df.filter(dimension=dimension, modulus=modulus, secret_distr=secret_type)\n",
    "    exact = temp.filter(noise_stddev=noise_stddev)\n",
    "\n",
    "    if exact.is_empty():\n",
    "        high = temp.filter(pl.col(\"security_bits\") >= expect_security).sort(\n",
    "            \"security_bits\"\n",
    "        )\n",
    "\n",
    "        if (not high.is_empty()) and high.item(0, \"noise_stddev\") <= noise_stddev:\n",
    "            print_uncheck(\n",
    "                dimension,\n",
    "                modulus,\n",
    "                secret_type,\n",
    "                secret_distr,\n",
    "                noise_stddev,\n",
    "                high.item(0, \"security_bits\"),\n",
    "                \">{}\",\n",
    "            )\n",
    "            return\n",
    "\n",
    "        low = temp.filter(pl.col(\"security_bits\") < expect_security).sort(\n",
    "            \"security_bits\", descending=True\n",
    "        )\n",
    "\n",
    "        if (not low.is_empty()) and low.item(0, \"noise_stddev\") >= noise_stddev:\n",
    "            print_uncheck(\n",
    "                dimension,\n",
    "                modulus,\n",
    "                secret_type,\n",
    "                secret_distr,\n",
    "                noise_stddev,\n",
    "                low.item(0, \"security_bits\"),\n",
    "                \"<{}\",\n",
    "            )\n",
    "            return\n",
    "\n",
    "        security = check_security(dimension, modulus, secret_distr, noise_stddev)\n",
    "\n",
    "        write_to_data(\n",
    "            dimension, modulus, secret_type, secret_distr, noise_stddev, security\n",
    "        )\n",
    "    else:\n",
    "        print(exact)"
   ]
  },
  {
   "cell_type": "code",
   "execution_count": 24,
   "metadata": {},
   "outputs": [],
   "source": [
    "# LWE\n",
    "n1 = 512\n",
    "q1 = 2048\n",
    "\n",
    "\n",
    "lwe1_key_type = \"Binary\"\n",
    "lwe1_noise_stddev = 0.83\n",
    "lwe1_key_distribution = ND.SparseBinary(n1 // 2, n1)\n",
    "\n",
    "# lwe1_key_type = \"Ternary\"\n",
    "# lwe1_noise_stddev = 0.63\n",
    "# lwe1_key_distribution = ND.SparseTernary(n1 // 4, n1 // 4, n1)"
   ]
  },
  {
   "cell_type": "code",
   "execution_count": 25,
   "metadata": {},
   "outputs": [
    {
     "name": "stdout",
     "output_type": "stream",
     "text": [
      "shape: (1, 7)\n",
      "┌───────────┬─────────┬──────────────┬───────────────┬──────────────┬───────────────┬──────────────┐\n",
      "│ dimension ┆ modulus ┆ secret_distr ┆ secret_stddev ┆ noise_stddev ┆ security_bits ┆ datetime     │\n",
      "│ ---       ┆ ---     ┆ ---          ┆ ---           ┆ ---          ┆ ---           ┆ ---          │\n",
      "│ u64       ┆ u64     ┆ str          ┆ f64           ┆ f64          ┆ f64           ┆ datetime[μs] │\n",
      "╞═══════════╪═════════╪══════════════╪═══════════════╪══════════════╪═══════════════╪══════════════╡\n",
      "│ 512       ┆ 2048    ┆ Binary       ┆ 0.5           ┆ 0.83         ┆ 128.025423    ┆ 2024-11-27   │\n",
      "│           ┆         ┆              ┆               ┆              ┆               ┆ 16:46:26.994 │\n",
      "│           ┆         ┆              ┆               ┆              ┆               ┆ 831          │\n",
      "└───────────┴─────────┴──────────────┴───────────────┴──────────────┴───────────────┴──────────────┘\n"
     ]
    }
   ],
   "source": [
    "check_security_with_data(\n",
    "    n1, q1, lwe1_key_type, lwe1_key_distribution, lwe1_noise_stddev\n",
    ")"
   ]
  },
  {
   "cell_type": "code",
   "execution_count": 26,
   "metadata": {},
   "outputs": [],
   "source": [
    "# BSK 1\n",
    "N1 = 1024\n",
    "Q1 = Q27_10\n",
    "\n",
    "\n",
    "# bsk1_key_type = \"Binary\"\n",
    "# bsk1_stddev = 4.49\n",
    "# bsk1_key_distribution = ND.SparseBinary(N1 // 2, N1)\n",
    "\n",
    "bsk1_key_type = \"Ternary\"\n",
    "bsk1_stddev = 3.2\n",
    "bsk1_key_distribution = ND.SparseTernary(N1 // 4, N1 // 4, N1)"
   ]
  },
  {
   "cell_type": "code",
   "execution_count": 27,
   "metadata": {},
   "outputs": [
    {
     "name": "stdout",
     "output_type": "stream",
     "text": [
      "shape: (1, 7)\n",
      "┌───────────┬───────────┬──────────────┬──────────────┬──────────────┬──────────────┬──────────────┐\n",
      "│ dimension ┆ modulus   ┆ secret_distr ┆ secret_stdde ┆ noise_stddev ┆ security_bit ┆ datetime     │\n",
      "│ ---       ┆ ---       ┆ ---          ┆ v            ┆ ---          ┆ s            ┆ ---          │\n",
      "│ u64       ┆ u64       ┆ str          ┆ ---          ┆ f64          ┆ ---          ┆ datetime[μs] │\n",
      "│           ┆           ┆              ┆ f64          ┆              ┆ f64          ┆              │\n",
      "╞═══════════╪═══════════╪══════════════╪══════════════╪══════════════╪══════════════╪══════════════╡\n",
      "│ 1024      ┆ 134215681 ┆ Ternary      ┆ 0.707107     ┆ 3.2          ┆ 128.034311   ┆ 2024-11-27   │\n",
      "│           ┆           ┆              ┆              ┆              ┆              ┆ 17:00:10.450 │\n",
      "│           ┆           ┆              ┆              ┆              ┆              ┆ 119          │\n",
      "└───────────┴───────────┴──────────────┴──────────────┴──────────────┴──────────────┴──────────────┘\n"
     ]
    }
   ],
   "source": [
    "check_security_with_data(N1, Q1, bsk1_key_type, bsk1_key_distribution, bsk1_stddev)"
   ]
  },
  {
   "cell_type": "code",
   "execution_count": 40,
   "metadata": {},
   "outputs": [],
   "source": [
    "n2 = 1024\n",
    "\n",
    "\n",
    "ksk_type = \"Binary\"\n",
    "ksk_noise_stddev = 4.49\n",
    "ksk_distribution = ND.SparseBinary(n2 // 2, n2)\n",
    "\n",
    "# ksk_type = \"Ternary\"\n",
    "# ksk_noise_stddev = 3.2\n",
    "# ksk_distribution = ND.SparseTernary(n2 // 4, n2 // 4, n2)"
   ]
  },
  {
   "cell_type": "code",
   "execution_count": 41,
   "metadata": {},
   "outputs": [
    {
     "name": "stdout",
     "output_type": "stream",
     "text": [
      "shape: (1, 7)\n",
      "┌───────────┬───────────┬──────────────┬──────────────┬──────────────┬──────────────┬──────────────┐\n",
      "│ dimension ┆ modulus   ┆ secret_distr ┆ secret_stdde ┆ noise_stddev ┆ security_bit ┆ datetime     │\n",
      "│ ---       ┆ ---       ┆ ---          ┆ v            ┆ ---          ┆ s            ┆ ---          │\n",
      "│ u64       ┆ u64       ┆ str          ┆ ---          ┆ f64          ┆ ---          ┆ datetime[μs] │\n",
      "│           ┆           ┆              ┆ f64          ┆              ┆ f64          ┆              │\n",
      "╞═══════════╪═══════════╪══════════════╪══════════════╪══════════════╪══════════════╪══════════════╡\n",
      "│ 1024      ┆ 134215681 ┆ Binary       ┆ 0.5          ┆ 4.49         ┆ 128.247523   ┆ 2024-11-27   │\n",
      "│           ┆           ┆              ┆              ┆              ┆              ┆ 16:46:29.486 │\n",
      "│           ┆           ┆              ┆              ┆              ┆              ┆ 929          │\n",
      "└───────────┴───────────┴──────────────┴──────────────┴──────────────┴──────────────┴──────────────┘\n"
     ]
    }
   ],
   "source": [
    "check_security_with_data(n2, Q1, ksk_type, ksk_distribution, ksk_noise_stddev)"
   ]
  },
  {
   "cell_type": "code",
   "execution_count": 42,
   "metadata": {},
   "outputs": [],
   "source": [
    "N2 = 2048\n",
    "Q2 = Q54_11\n",
    "\n",
    "\n",
    "# bsk2_key_type = \"Binary\"\n",
    "# bsk2_nosie_stddev = 4.63\n",
    "# bsk2_key_distribution = ND.SparseBinary(N2 // 2, N2)\n",
    "\n",
    "bsk2_key_type = \"Ternary\"\n",
    "bsk2_nosie_stddev = 3.4\n",
    "bsk2_key_distribution = ND.SparseTernary(N2 // 4, N2 // 4, N2)"
   ]
  },
  {
   "cell_type": "code",
   "execution_count": 43,
   "metadata": {},
   "outputs": [
    {
     "name": "stdout",
     "output_type": "stream",
     "text": [
      "shape: (1, 7)\n",
      "┌───────────┬──────────────┬──────────────┬──────────────┬─────────────┬─────────────┬─────────────┐\n",
      "│ dimension ┆ modulus      ┆ secret_distr ┆ secret_stdde ┆ noise_stdde ┆ security_bi ┆ datetime    │\n",
      "│ ---       ┆ ---          ┆ ---          ┆ v            ┆ v           ┆ ts          ┆ ---         │\n",
      "│ u64       ┆ u64          ┆ str          ┆ ---          ┆ ---         ┆ ---         ┆ datetime[μs │\n",
      "│           ┆              ┆              ┆ f64          ┆ f64         ┆ f64         ┆ ]           │\n",
      "╞═══════════╪══════════════╪══════════════╪══════════════╪═════════════╪═════════════╪═════════════╡\n",
      "│ 2048      ┆ 180143985094 ┆ Ternary      ┆ 0.707107     ┆ 3.4         ┆ 128.101037  ┆ 2024-11-27  │\n",
      "│           ┆ 04161        ┆              ┆              ┆             ┆             ┆ 17:00:14.04 │\n",
      "│           ┆              ┆              ┆              ┆             ┆             ┆ 8246        │\n",
      "└───────────┴──────────────┴──────────────┴──────────────┴─────────────┴─────────────┴─────────────┘\n"
     ]
    }
   ],
   "source": [
    "check_security_with_data(\n",
    "    N2, Q2, bsk2_key_type, bsk2_key_distribution, bsk2_nosie_stddev\n",
    ")"
   ]
  }
 ],
 "metadata": {
  "kernelspec": {
   "display_name": "sage",
   "language": "python",
   "name": "python3"
  },
  "language_info": {
   "codemirror_mode": {
    "name": "ipython",
    "version": 3
   },
   "file_extension": ".py",
   "mimetype": "text/x-python",
   "name": "python",
   "nbconvert_exporter": "python",
   "pygments_lexer": "ipython3",
   "version": "3.11.10"
  }
 },
 "nbformat": 4,
 "nbformat_minor": 2
}
