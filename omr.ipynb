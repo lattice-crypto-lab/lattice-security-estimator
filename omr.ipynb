{
 "cells": [
  {
   "cell_type": "code",
   "execution_count": 12,
   "metadata": {},
   "outputs": [],
   "source": [
    "import math\n",
    "import os\n",
    "\n",
    "import polars as pl\n",
    "import datetime as dt\n",
    "\n",
    "from estimator.estimator import *\n",
    "from estimator.estimator.nd import NoiseDistribution"
   ]
  },
  {
   "cell_type": "code",
   "execution_count": 13,
   "metadata": {},
   "outputs": [],
   "source": [
    "jobs = 16\n",
    "enable_binary = False\n",
    "expect_security = 128"
   ]
  },
  {
   "cell_type": "code",
   "execution_count": 14,
   "metadata": {},
   "outputs": [
    {
     "name": "stdout",
     "output_type": "stream",
     "text": [
      "shape: (5, 7)\n",
      "┌───────────┬───────────┬──────────────┬──────────────┬──────────────┬──────────────┬──────────────┐\n",
      "│ dimension ┆ modulus   ┆ secret_distr ┆ secret_stdde ┆ noise_stddev ┆ security_bit ┆ datetime     │\n",
      "│ ---       ┆ ---       ┆ ---          ┆ v            ┆ ---          ┆ s            ┆ ---          │\n",
      "│ u64       ┆ u64       ┆ str          ┆ ---          ┆ f64          ┆ ---          ┆ datetime[μs] │\n",
      "│           ┆           ┆              ┆ f64          ┆              ┆ f64          ┆              │\n",
      "╞═══════════╪═══════════╪══════════════╪══════════════╪══════════════╪══════════════╪══════════════╡\n",
      "│ 1024      ┆ 132120577 ┆ Ternary      ┆ 0.707107     ┆ 6.4          ┆ 129.882553   ┆ 2024-11-26   │\n",
      "│           ┆           ┆              ┆              ┆              ┆              ┆ 17:07:01.099 │\n",
      "│           ┆           ┆              ┆              ┆              ┆              ┆ 907          │\n",
      "│ 512       ┆ 2048      ┆ Ternary      ┆ 0.707107     ┆ 0.75         ┆ 128.438845   ┆ 2024-11-26   │\n",
      "│           ┆           ┆              ┆              ┆              ┆              ┆ 17:47:10.549 │\n",
      "│           ┆           ┆              ┆              ┆              ┆              ┆ 279          │\n",
      "│ 512       ┆ 132120577 ┆ Ternary      ┆ 0.707107     ┆ 52428.8      ┆ 129.579298   ┆ 2024-11-26   │\n",
      "│           ┆           ┆              ┆              ┆              ┆              ┆ 18:46:33.135 │\n",
      "│           ┆           ┆              ┆              ┆              ┆              ┆ 675          │\n",
      "│ 512       ┆ 2048      ┆ Ternary      ┆ 0.707107     ┆ 0.74         ┆ 128.154627   ┆ 2024-11-26   │\n",
      "│           ┆           ┆              ┆              ┆              ┆              ┆ 19:26:25.660 │\n",
      "│           ┆           ┆              ┆              ┆              ┆              ┆ 842          │\n",
      "│ 1024      ┆ 2048      ┆ Ternary      ┆ 0.707107     ┆ 3.2          ┆ 280.113557   ┆ 2024-11-26   │\n",
      "│           ┆           ┆              ┆              ┆              ┆              ┆ 19:47:11.942 │\n",
      "│           ┆           ┆              ┆              ┆              ┆              ┆ 240          │\n",
      "└───────────┴───────────┴──────────────┴──────────────┴──────────────┴──────────────┴──────────────┘\n"
     ]
    }
   ],
   "source": [
    "data_path = \"./security_result.parquet\"\n",
    "\n",
    "schema = {\n",
    "    \"dimension\": pl.UInt64,\n",
    "    \"modulus\": pl.UInt64,\n",
    "    \"secret_distr\": pl.String,\n",
    "    \"secret_stddev\": pl.Float64,\n",
    "    \"noise_stddev\": pl.Float64,\n",
    "    \"security_bits\": pl.Float64,\n",
    "    \"datetime\": pl.Datetime,\n",
    "}\n",
    "\n",
    "if not os.path.exists(data_path):\n",
    "    df = pl.DataFrame(None, schema)\n",
    "    df.write_parquet(data_path)\n",
    "\n",
    "df = pl.read_parquet(data_path)\n",
    "print(df.filter(pl.col(\"security_bits\") >= expect_security).head())"
   ]
  },
  {
   "cell_type": "code",
   "execution_count": 15,
   "metadata": {},
   "outputs": [],
   "source": [
    "def write_to_data(\n",
    "    dimension: int,\n",
    "    modulus: int,\n",
    "    secret_type: str,\n",
    "    secret_distr: NoiseDistribution,\n",
    "    noise_stddev,\n",
    "    security,\n",
    "):\n",
    "    new = pl.DataFrame(\n",
    "        {\n",
    "            \"dimension\": [dimension],\n",
    "            \"modulus\": [modulus],\n",
    "            \"secret_distr\": [secret_type],\n",
    "            \"secret_stddev\": [secret_distr.stddev],\n",
    "            \"noise_stddev\": [noise_stddev],\n",
    "            \"security_bits\": [security],\n",
    "            \"datetime\": [dt.datetime.now()],\n",
    "        },\n",
    "        schema,\n",
    "    )\n",
    "    print(new)\n",
    "    df.extend(new)\n",
    "    df.write_parquet(data_path)"
   ]
  },
  {
   "cell_type": "code",
   "execution_count": 16,
   "metadata": {},
   "outputs": [],
   "source": [
    "def print_uncheck(\n",
    "    dimension: int,\n",
    "    modulus: int,\n",
    "    secret_type: str,\n",
    "    secret_distr: NoiseDistribution,\n",
    "    noise_stddev,\n",
    "    security,\n",
    "    pat: str,\n",
    "):\n",
    "    uncheck = pl.DataFrame(\n",
    "        {\n",
    "            \"dimension\": [dimension],\n",
    "            \"modulus\": [modulus],\n",
    "            \"secret_distr\": [secret_type],\n",
    "            \"secret_stddev\": [secret_distr.stddev],\n",
    "            \"noise_stddev\": [noise_stddev],\n",
    "            \"security_bits\": [pat.format(security)],\n",
    "        },\n",
    "    )\n",
    "    print(uncheck)"
   ]
  },
  {
   "cell_type": "code",
   "execution_count": 17,
   "metadata": {},
   "outputs": [],
   "source": [
    "def check_security(\n",
    "    dimension: int, modulus: int, secret_distr: NoiseDistribution, noise_stddev\n",
    "):\n",
    "    param = LWE.Parameters(\n",
    "        n=dimension, q=modulus, Xs=secret_distr, Xe=ND.DiscreteGaussian(noise_stddev)\n",
    "    )\n",
    "    print(param)\n",
    "\n",
    "    try:\n",
    "        result = LWE.estimate(\n",
    "            param,\n",
    "            jobs=jobs,\n",
    "        )\n",
    "    except Exception as err:\n",
    "        print(\"err=\", err)\n",
    "        print(\"Error Occur!\")\n",
    "    else:\n",
    "        return min([math.log(res.get(\"rop\", 0), 2) for res in result.values()])"
   ]
  },
  {
   "cell_type": "code",
   "execution_count": 18,
   "metadata": {},
   "outputs": [],
   "source": [
    "def check_security_with_data(\n",
    "    dimension: int,\n",
    "    modulus: int,\n",
    "    secret_type: str,\n",
    "    secret_distr: NoiseDistribution,\n",
    "    noise_stddev,\n",
    "    force_run_estimate: bool = False,\n",
    "):\n",
    "    if force_run_estimate:\n",
    "        security = check_security(dimension, modulus, secret_distr, noise_stddev)\n",
    "        write_to_data(\n",
    "            dimension, modulus, secret_type, secret_distr, noise_stddev, security\n",
    "        )\n",
    "        return\n",
    "\n",
    "    temp = df.filter(dimension=dimension, modulus=modulus, secret_distr=secret_type)\n",
    "    exact = temp.filter(noise_stddev=noise_stddev)\n",
    "\n",
    "    if exact.is_empty():\n",
    "        high = temp.filter(pl.col(\"security_bits\") >= expect_security).sort(\n",
    "            \"security_bits\"\n",
    "        )\n",
    "\n",
    "        if (not high.is_empty()) and high.item(0, \"noise_stddev\") <= noise_stddev:\n",
    "            print_uncheck(\n",
    "                dimension,\n",
    "                modulus,\n",
    "                secret_type,\n",
    "                secret_distr,\n",
    "                noise_stddev,\n",
    "                high.item(0, \"security_bits\"),\n",
    "                \">{}\",\n",
    "            )\n",
    "            return\n",
    "\n",
    "        low = temp.filter(pl.col(\"security_bits\") < expect_security).sort(\n",
    "            \"security_bits\", descending=True\n",
    "        )\n",
    "\n",
    "        if (not low.is_empty()) and low.item(0, \"noise_stddev\") >= noise_stddev:\n",
    "            print_uncheck(\n",
    "                dimension,\n",
    "                modulus,\n",
    "                secret_type,\n",
    "                secret_distr,\n",
    "                noise_stddev,\n",
    "                low.item(0, \"security_bits\"),\n",
    "                \"<{}\",\n",
    "            )\n",
    "            return\n",
    "\n",
    "        security = check_security(dimension, modulus, secret_distr, noise_stddev)\n",
    "\n",
    "        write_to_data(\n",
    "            dimension, modulus, secret_type, secret_distr, noise_stddev, security\n",
    "        )\n",
    "    else:\n",
    "        print(exact)"
   ]
  },
  {
   "cell_type": "code",
   "execution_count": null,
   "metadata": {},
   "outputs": [],
   "source": [
    "# LWE\n",
    "n1 = 512\n",
    "q1 = 2048\n",
    "lwe1_noise_stddev = 0.74\n",
    "\n",
    "if enable_binary:\n",
    "    lwe1_key_type = \"Binary\"\n",
    "    lwe1_key_distribution = ND.SparseBinary(n1 // 2, n1)\n",
    "else:\n",
    "    lwe1_key_type = \"Ternary\"\n",
    "    lwe1_key_distribution = ND.SparseTernary(n1 // 4, n1 // 4, n1)"
   ]
  },
  {
   "cell_type": "code",
   "execution_count": null,
   "metadata": {},
   "outputs": [
    {
     "name": "stdout",
     "output_type": "stream",
     "text": [
      "shape: (1, 7)\n",
      "┌───────────┬─────────┬──────────────┬───────────────┬──────────────┬───────────────┬──────────────┐\n",
      "│ dimension ┆ modulus ┆ secret_distr ┆ secret_stddev ┆ noise_stddev ┆ security_bits ┆ datetime     │\n",
      "│ ---       ┆ ---     ┆ ---          ┆ ---           ┆ ---          ┆ ---           ┆ ---          │\n",
      "│ u64       ┆ u64     ┆ str          ┆ f64           ┆ f64          ┆ f64           ┆ datetime[μs] │\n",
      "╞═══════════╪═════════╪══════════════╪═══════════════╪══════════════╪═══════════════╪══════════════╡\n",
      "│ 512       ┆ 2048    ┆ Ternary      ┆ 0.707107      ┆ 0.74         ┆ 128.154627    ┆ 2024-11-26   │\n",
      "│           ┆         ┆              ┆               ┆              ┆               ┆ 19:26:25.660 │\n",
      "│           ┆         ┆              ┆               ┆              ┆               ┆ 842          │\n",
      "└───────────┴─────────┴──────────────┴───────────────┴──────────────┴───────────────┴──────────────┘\n"
     ]
    }
   ],
   "source": [
    "check_security_with_data(\n",
    "    n1, q1, lwe1_key_type, lwe1_key_distribution, lwe1_noise_stddev\n",
    ")"
   ]
  },
  {
   "cell_type": "code",
   "execution_count": null,
   "metadata": {},
   "outputs": [],
   "source": [
    "# BSK 1\n",
    "N1 = 1024\n",
    "Q1 = 132120577\n",
    "rlwe1_stddev = 3.20 * (1 << 1)\n",
    "\n",
    "if enable_binary:\n",
    "    rlwe1_key_type = \"Binary\"\n",
    "    rlwe1_key_distribution = ND.SparseBinary(N1 // 2, N1)\n",
    "else:\n",
    "    rlwe1_key_type = \"Ternary\"\n",
    "    rlwe1_key_distribution = ND.SparseTernary(N1 // 4, N1 // 4, N1)"
   ]
  },
  {
   "cell_type": "code",
   "execution_count": null,
   "metadata": {},
   "outputs": [
    {
     "name": "stdout",
     "output_type": "stream",
     "text": [
      "shape: (1, 7)\n",
      "┌───────────┬───────────┬──────────────┬──────────────┬──────────────┬──────────────┬──────────────┐\n",
      "│ dimension ┆ modulus   ┆ secret_distr ┆ secret_stdde ┆ noise_stddev ┆ security_bit ┆ datetime     │\n",
      "│ ---       ┆ ---       ┆ ---          ┆ v            ┆ ---          ┆ s            ┆ ---          │\n",
      "│ u64       ┆ u64       ┆ str          ┆ ---          ┆ f64          ┆ ---          ┆ datetime[μs] │\n",
      "│           ┆           ┆              ┆ f64          ┆              ┆ f64          ┆              │\n",
      "╞═══════════╪═══════════╪══════════════╪══════════════╪══════════════╪══════════════╪══════════════╡\n",
      "│ 1024      ┆ 132120577 ┆ Ternary      ┆ 0.707107     ┆ 6.4          ┆ 129.882553   ┆ 2024-11-26   │\n",
      "│           ┆           ┆              ┆              ┆              ┆              ┆ 17:07:01.099 │\n",
      "│           ┆           ┆              ┆              ┆              ┆              ┆ 907          │\n",
      "└───────────┴───────────┴──────────────┴──────────────┴──────────────┴──────────────┴──────────────┘\n"
     ]
    }
   ],
   "source": [
    "check_security_with_data(N1, Q1, rlwe1_key_type, rlwe1_key_distribution, rlwe1_stddev)"
   ]
  },
  {
   "cell_type": "code",
   "execution_count": null,
   "metadata": {},
   "outputs": [],
   "source": [
    "n2 = 1024\n",
    "ksk_noise_stddev = 3.20 * (1 << 1)\n",
    "if enable_binary:\n",
    "    ksk_type = \"Binary\"\n",
    "    ksk_distribution = ND.SparseBinary(n2 // 2, n2)\n",
    "else:\n",
    "    ksk_type = \"Ternary\"\n",
    "    ksk_distribution = ND.SparseTernary(n2 // 4, n2 // 4, n2)"
   ]
  },
  {
   "cell_type": "code",
   "execution_count": null,
   "metadata": {},
   "outputs": [
    {
     "name": "stdout",
     "output_type": "stream",
     "text": [
      "shape: (1, 7)\n",
      "┌───────────┬───────────┬──────────────┬──────────────┬──────────────┬──────────────┬──────────────┐\n",
      "│ dimension ┆ modulus   ┆ secret_distr ┆ secret_stdde ┆ noise_stddev ┆ security_bit ┆ datetime     │\n",
      "│ ---       ┆ ---       ┆ ---          ┆ v            ┆ ---          ┆ s            ┆ ---          │\n",
      "│ u64       ┆ u64       ┆ str          ┆ ---          ┆ f64          ┆ ---          ┆ datetime[μs] │\n",
      "│           ┆           ┆              ┆ f64          ┆              ┆ f64          ┆              │\n",
      "╞═══════════╪═══════════╪══════════════╪══════════════╪══════════════╪══════════════╪══════════════╡\n",
      "│ 1024      ┆ 132120577 ┆ Ternary      ┆ 0.707107     ┆ 6.4          ┆ 129.882553   ┆ 2024-11-26   │\n",
      "│           ┆           ┆              ┆              ┆              ┆              ┆ 17:07:01.099 │\n",
      "│           ┆           ┆              ┆              ┆              ┆              ┆ 907          │\n",
      "└───────────┴───────────┴──────────────┴──────────────┴──────────────┴──────────────┴──────────────┘\n"
     ]
    }
   ],
   "source": [
    "check_security_with_data(n2, Q1, ksk_type, ksk_distribution, ksk_noise_stddev)"
   ]
  },
  {
   "cell_type": "code",
   "execution_count": null,
   "metadata": {},
   "outputs": [],
   "source": [
    "N2 = 2048\n",
    "Q2 = 2251799813640193\n",
    "rlwe2_nosie_stddev = 3.2\n",
    "\n",
    "if enable_binary:\n",
    "    rlwe2_key_type = \"Binary\"\n",
    "    rlwe2_key_distribution = ND.SparseBinary(N2 // 2, N2)\n",
    "else:\n",
    "    rlwe2_key_type = \"Ternary\"\n",
    "    rlwe2_key_distribution = ND.SparseTernary(N2 // 4, N2 // 4, N2)"
   ]
  },
  {
   "cell_type": "code",
   "execution_count": null,
   "metadata": {},
   "outputs": [
    {
     "name": "stdout",
     "output_type": "stream",
     "text": [
      "LWEParameters(n=2048, q=2251799813640193, Xs=T(p=512, m=512, n=2048), Xe=D(σ=3.20), m=+Infinity, tag=None)\n"
     ]
    }
   ],
   "source": [
    "check_security_with_data(\n",
    "    N2, Q2, rlwe2_key_type, rlwe2_key_distribution, rlwe2_nosie_stddev\n",
    ")"
   ]
  }
 ],
 "metadata": {
  "kernelspec": {
   "display_name": "sage",
   "language": "python",
   "name": "python3"
  },
  "language_info": {
   "codemirror_mode": {
    "name": "ipython",
    "version": 3
   },
   "file_extension": ".py",
   "mimetype": "text/x-python",
   "name": "python",
   "nbconvert_exporter": "python",
   "pygments_lexer": "ipython3",
   "version": "3.11.10"
  }
 },
 "nbformat": 4,
 "nbformat_minor": 2
}
