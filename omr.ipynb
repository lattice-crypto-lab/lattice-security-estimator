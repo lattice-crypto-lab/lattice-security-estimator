{
 "cells": [
  {
   "cell_type": "code",
   "execution_count": 1,
   "metadata": {},
   "outputs": [],
   "source": [
    "import math\n",
    "from estimator import *\n",
    "from sage.misc.table import table"
   ]
  },
  {
   "cell_type": "code",
   "execution_count": 2,
   "metadata": {},
   "outputs": [],
   "source": [
    "jobs = 16\n",
    "\n",
    "enable_binary = False"
   ]
  },
  {
   "cell_type": "code",
   "execution_count": 5,
   "metadata": {},
   "outputs": [],
   "source": [
    "# LWE\n",
    "n = 512\n",
    "p = 2**6\n",
    "q = 2048\n",
    "e_stddev = 0.56  # For ternary\n",
    "\n",
    "if 12 * e_stddev >= q / (2 * p):\n",
    "    raise ValueError(\"noise standard deviation should be less than {}\".format(q / (12 * 2 * p)))\n",
    "\n",
    "e_lwe_distribution = ND.DiscreteGaussian(e_stddev)\n",
    "\n",
    "if enable_binary:\n",
    "    lwe_key_distribution = ND.SparseBinary(n // 2, n)\n",
    "else:\n",
    "    lwe_key_distribution = ND.SparseTernary(n // 4, n // 4, n)"
   ]
  },
  {
   "cell_type": "code",
   "execution_count": 6,
   "metadata": {},
   "outputs": [
    {
     "name": "stdout",
     "output_type": "stream",
     "text": [
      "LWEParameters(n=512, q=2048, Xs=D(σ=0.71), Xe=D(σ=0.56), m=+Infinity, tag=None)\n",
      "Algorithm functools.partial(<function dual at 0x7ff615b14ae0>, red_cost_model=<estimator.reduction.MATZOV object at 0x7ff615e77910>) on LWEParameters(n=512, q=2048, Xs=D(σ=0.56), Xe=D(σ=0.56), m=+Infinity, tag=None) failed with Unknown how to exploit sparsity of D(σ=0.56, μ=0.00, n=512)\n",
      "Algorithm arora_gb+guessing on LWEParameters(n=512, q=2048, Xs=D(σ=0.56), Xe=D(σ=0.56), m=+Infinity, tag=None) failed with \n",
      "bkw                  :: rop: ≈2^134.3, m: ≈2^121.0, mem: ≈2^114.5, b: 10, t1: 5, t2: 17, ℓ: 9, #cod: 392, #top: 0, #test: 71, tag: coded-bkw\n",
      "usvp                 :: rop: ≈2^126.5, red: ≈2^126.5, δ: 1.004417, β: 344, d: 903, tag: usvp\n",
      "bdd                  :: rop: ≈2^123.2, red: ≈2^122.4, svp: ≈2^121.8, β: 329, η: 360, d: 916, tag: bdd\n",
      "dual_hybrid          :: rop: ≈2^120.1, red: ≈2^119.3, guess: ≈2^118.8, β: 314, p: 2, ζ: 20, t: 70, β': 322, N: ≈2^66.5, m: 512\n",
      "┌─────────────────────────╥──────────────────────────┐\n",
      "│ n                       ║ 512                      |\n",
      "├─────────────────────────╫──────────────────────────┤\n",
      "│ q                       ║ 2048                     |\n",
      "├─────────────────────────╫──────────────────────────┤\n",
      "│ secret key distribution ║ D(σ=0.71, μ=0.00, n=512) |\n",
      "├─────────────────────────╫──────────────────────────┤\n",
      "│ noise distribution      ║ D(σ=0.56, μ=0.00)        |\n",
      "├─────────────────────────╫──────────────────────────┤\n",
      "│ lwe security            ║ 120.06697037528986       |\n",
      "└─────────────────────────╨──────────────────────────┘\n"
     ]
    }
   ],
   "source": [
    "lwe_param = LWE.Parameters(n=n, q=q, Xs=lwe_key_distribution, Xe=e_lwe_distribution)\n",
    "print(lwe_param)\n",
    "try:\n",
    "    lwe_result = LWE.estimate(\n",
    "        lwe_param,\n",
    "        deny_list=(\n",
    "            # \"arora-gb\",\n",
    "            # \"bkw\",\n",
    "        ),\n",
    "        jobs=jobs,\n",
    "    )\n",
    "except Exception as err:\n",
    "    print(\"err=\", err)\n",
    "    print(\"Error Occur!\")\n",
    "else:\n",
    "    lwe_security = min([math.log(res.get(\"rop\", 0), 2) for res in lwe_result.values()])\n",
    "    header = [\"n\",\"q\",\"secret key distribution\",\"noise distribution\", \"lwe security\"]\n",
    "    data = [n,q,lwe_key_distribution,e_lwe_distribution,lwe_security]\n",
    "    print(table(columns = [data], header_column = header, frame = True))"
   ]
  },
  {
   "cell_type": "code",
   "execution_count": 41,
   "metadata": {},
   "outputs": [
    {
     "name": "stdout",
     "output_type": "stream",
     "text": [
      "┌──────╥────┐\n",
      "│ logQ ║ 27 |\n",
      "└──────╨────┘\n"
     ]
    }
   ],
   "source": [
    "# RLWE\n",
    "N = 1024\n",
    "Q = 132120577\n",
    "sigma_ring = 3.20 * (1 << 1)\n",
    "\n",
    "if enable_binary:\n",
    "    rlwe_key_distribution = ND.SparseBinary(N // 2, N)\n",
    "else:\n",
    "    rlwe_key_distribution = ND.SparseTernary(N // 4, N // 4, N)\n",
    "\n",
    "e_rlwe_distribution = ND.DiscreteGaussian(sigma_ring)\n",
    "\n",
    "logQ = Q.bit_length()\n",
    "\n",
    "header = [\"logQ\"]\n",
    "data = [logQ]\n",
    "print(table(columns=[data], header_column=header, frame=True))"
   ]
  },
  {
   "cell_type": "code",
   "execution_count": null,
   "metadata": {},
   "outputs": [
    {
     "name": "stdout",
     "output_type": "stream",
     "text": [
      "LWEParameters(n=1024, q=132120577, Xs=D(σ=0.71), Xe=D(σ=6.40), m=+Infinity, tag=None)\n",
      "arora-gb             :: rop: ≈2^inf, m: ≈2^975.1, dreg: 411, t: 119, mem: ≈2^inf, tag: arora-gb, ↻: ≈2^727.7, ζ: 513, |S|: ≈2^637.8, prop: ≈2^-87.7\n",
      "bkw                  :: rop: ≈2^233.6, m: ≈2^219.8, mem: ≈2^220.8, b: 8, t1: 0, t2: 31, ℓ: 7, #cod: 919, #top: 0, #test: 107, tag: coded-bkw\n",
      "usvp                 :: rop: ≈2^133.0, red: ≈2^133.0, δ: 1.004266, β: 362, d: 1937, tag: usvp\n",
      "bdd                  :: rop: ≈2^131.3, red: ≈2^131.1, svp: ≈2^128.2, β: 355, η: 383, d: 1940, tag: bdd\n",
      "dual                 :: rop: ≈2^136.3, mem: ≈2^87.4, m: 984, β: 370, d: 2008, ↻: 1, tag: dual\n",
      "dual_hybrid          :: rop: ≈2^129.9, red: ≈2^129.9, guess: ≈2^120.0, β: 347, p: 3, ζ: 20, t: 40, β': 358, N: ≈2^73.2, m: 1024\n",
      "┌─────────────────────────╥───────────────────────────┐\n",
      "│ N                       ║ 1024                      |\n",
      "├─────────────────────────╫───────────────────────────┤\n",
      "│ Q                       ║ 132120577                 |\n",
      "├─────────────────────────╫───────────────────────────┤\n",
      "│ logQ                    ║ 27                        |\n",
      "├─────────────────────────╫───────────────────────────┤\n",
      "│ secret key distribution ║ D(σ=0.71, μ=0.00, n=1024) |\n",
      "├─────────────────────────╫───────────────────────────┤\n",
      "│ noise distribution      ║ D(σ=6.40, μ=0.00)         |\n",
      "├─────────────────────────╫───────────────────────────┤\n",
      "│ rlwe security           ║ 129.88255310040435        |\n",
      "└─────────────────────────╨───────────────────────────┘\n"
     ]
    }
   ],
   "source": [
    "rlwe_param = LWE.Parameters(n=N, q=Q, Xs=rlwe_key_distribution, Xe=e_rlwe_distribution)\n",
    "print(rlwe_param)\n",
    "try:\n",
    "    # rlwe_result = LWE.estimate.rough(\n",
    "    #     rlwe_param,\n",
    "    #     jobs=jobs,\n",
    "    # )\n",
    "    # \"arora-gb\",\"bkw\",\"usvp\",\"bdd\",\"bdd_hybrid\",\"bdd_mitm_hybrid\",\"dual\",\"dual_hybrid\",\"dual_mitm_hybrid\"\n",
    "    rlwe_result = LWE.estimate(\n",
    "        rlwe_param,\n",
    "        # red_shape_model=Simulator.CN11,\n",
    "        deny_list=(\n",
    "            # \"arora-gb\",\n",
    "            # \"bkw\",\n",
    "        ),\n",
    "        jobs=jobs,\n",
    "    )\n",
    "except Exception as err:\n",
    "    print(\"err=\", err)\n",
    "    print(\"Error Occur!\")\n",
    "else:\n",
    "    rlwe_security = min([math.log(res.get(\"rop\", 0), 2) for res in rlwe_result.values()])\n",
    "    header = [\"N\",\"Q\",\"logQ\",\"secret key distribution\",\"noise distribution\", \"rlwe security\"]\n",
    "    data = [N,Q,logQ,rlwe_key_distribution,e_rlwe_distribution,rlwe_security]\n",
    "    print(table(columns = [data], header_column = header, frame = True))"
   ]
  },
  {
   "cell_type": "code",
   "execution_count": 48,
   "metadata": {},
   "outputs": [],
   "source": [
    "e_key_switching = 3.20 * (1 << 14)\n",
    "key_switching_key_distribution = ND.DiscreteGaussian(e_key_switching)"
   ]
  },
  {
   "cell_type": "code",
   "execution_count": 49,
   "metadata": {},
   "outputs": [
    {
     "name": "stdout",
     "output_type": "stream",
     "text": [
      "LWEParameters(n=512, q=132120577, Xs=D(σ=0.71), Xe=D(σ=52428.80), m=+Infinity, tag=None)\n",
      "bkw                  :: rop: ≈2^177.7, m: ≈2^165.3, mem: ≈2^166.3, b: 6, t1: 0, t2: 22, ℓ: 5, #cod: 467, #top: 0, #test: 45, tag: coded-bkw\n",
      "usvp                 :: rop: ≈2^135.5, red: ≈2^135.5, δ: 1.004156, β: 376, d: 959, tag: usvp\n",
      "bdd                  :: rop: ≈2^139.6, red: ≈2^124.5, svp: ≈2^139.6, β: 337, η: 424, d: 868, tag: bdd\n",
      "dual                 :: rop: ≈2^141.1, mem: ≈2^90.8, m: 465, β: 393, d: 977, ↻: 1, tag: dual\n",
      "dual_hybrid          :: rop: ≈2^129.6, red: ≈2^129.6, guess: ≈2^120.3, β: 351, p: 3, ζ: 20, t: 40, β': 357, N: ≈2^73.5, m: 512\n",
      "┌────────────────────────────╥──────────────────────────┐\n",
      "│ n                          ║ 512                      |\n",
      "├────────────────────────────╫──────────────────────────┤\n",
      "│ logQ                       ║ 27                       |\n",
      "├────────────────────────────╫──────────────────────────┤\n",
      "│ secret key distribution    ║ D(σ=0.71, μ=0.00, n=512) |\n",
      "├────────────────────────────╫──────────────────────────┤\n",
      "│ noise distribution         ║ D(σ=52428.80, μ=0.00)    |\n",
      "├────────────────────────────╫──────────────────────────┤\n",
      "│ key switching key security ║ 129.579298150773         |\n",
      "└────────────────────────────╨──────────────────────────┘\n"
     ]
    }
   ],
   "source": [
    "key_switching = LWE.Parameters(n=n, q=Q, Xs=lwe_key_distribution, Xe=key_switching_key_distribution)\n",
    "print(key_switching)\n",
    "try:\n",
    "    # key_switching_result = LWE.estimate.rough(\n",
    "    #     key_switching,\n",
    "    #     jobs=jobs,\n",
    "    # )\n",
    "    # \"arora-gb\",\"bkw\",\"usvp\",\"bdd\",\"bdd_hybrid\",\"bdd_mitm_hybrid\",\"dual\",\"dual_hybrid\",\"dual_mitm_hybrid\"\n",
    "    key_switching_result = LWE.estimate(\n",
    "        key_switching,\n",
    "        # red_shape_model=Simulator.CN11,\n",
    "        deny_list=(\n",
    "            # \"arora-gb\",\n",
    "            # \"bkw\",\n",
    "        ),\n",
    "        jobs=jobs,\n",
    "    )\n",
    "except Exception as err:\n",
    "    print(\"err=\", err)\n",
    "    print(\"Error Occur!\")\n",
    "else:\n",
    "    key_switching_security = min([math.log(res.get(\"rop\", 0), 2) for res in key_switching_result.values()])\n",
    "    header = [\"n\",\"logQ\",\"secret key distribution\",\"noise distribution\", \"key switching key security\"]\n",
    "    data = [n,logQ,lwe_key_distribution,key_switching_key_distribution,key_switching_security]\n",
    "    print(table(columns = [data], header_column = header, frame = True))"
   ]
  }
 ],
 "metadata": {
  "kernelspec": {
   "display_name": "sage",
   "language": "python",
   "name": "python3"
  },
  "language_info": {
   "codemirror_mode": {
    "name": "ipython",
    "version": 3
   },
   "file_extension": ".py",
   "mimetype": "text/x-python",
   "name": "python",
   "nbconvert_exporter": "python",
   "pygments_lexer": "ipython3",
   "version": "3.11.10"
  }
 },
 "nbformat": 4,
 "nbformat_minor": 2
}
