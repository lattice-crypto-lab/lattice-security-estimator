{
 "cells": [
  {
   "cell_type": "code",
   "execution_count": null,
   "metadata": {},
   "outputs": [],
   "source": [
    "import math\n",
    "from estimator import *"
   ]
  },
  {
   "cell_type": "code",
   "execution_count": null,
   "metadata": {},
   "outputs": [],
   "source": [
    "e = 3.19\n",
    "Q_dict = {512: {128: 27, 192: 19, 256: 14}, 1024: {128: 54, 192: 37, 256: 29}, 2048: {128: 109, 192: 75, 256: 58}}"
   ]
  },
  {
   "cell_type": "code",
   "execution_count": null,
   "metadata": {},
   "outputs": [],
   "source": [
    "expect_security = 256\n",
    "\n",
    "n = 2**11\n",
    "N = n * 2\n",
    "\n",
    "logQ = Q_dict[n][expect_security]\n",
    "i = 0\n",
    "Q = 2 ** (logQ - i)\n",
    "\n",
    "rlwe_param = LWE.Parameters(n=N, q=Q, Xs=ND.DiscreteGaussian(e), Xe=ND.DiscreteGaussian(e))\n",
    "print(rlwe_param)\n",
    "try:\n",
    "    # rlwe_result = LWE.estimate.rough(\n",
    "    #     rlwe_param,\n",
    "    #     jobs=8,\n",
    "    # )\n",
    "    # \"arora-gb\",\"bkw\",\"usvp\",\"bdd\",\"bdd_hybrid\",\"bdd_mitm_hybrid\",\"dual\",\"dual_hybrid\",\"dual_mitm_hybrid\"\n",
    "    rlwe_result = LWE.estimate(\n",
    "        rlwe_param,\n",
    "        deny_list=(\n",
    "            \"arora-gb\",\n",
    "            \"bkw\",\n",
    "        ),\n",
    "        jobs=8,\n",
    "    )\n",
    "except:\n",
    "    print(\"e=\", e)\n",
    "    print(\"Error Occur!\")\n",
    "else:\n",
    "    rlwe_security = min([math.log(res.get(\"rop\", 0), 2) for res in rlwe_result.values()])\n",
    "    print(\"n={}\".format(n))\n",
    "    print(\"N={}\".format(N))\n",
    "    print(\"logQ={}\".format(logQ - i))\n",
    "    print(\"rlwe_security={}\".format(rlwe_security))\n",
    "    print(\"expect_security={}\".format(expect_security))\n",
    "    if rlwe_security >= expect_security:\n",
    "        print(\"Success!\")"
   ]
  }
 ],
 "metadata": {
  "kernelspec": {
   "display_name": "Python 3",
   "language": "python",
   "name": "python3"
  },
  "language_info": {
   "codemirror_mode": {
    "name": "ipython",
    "version": 3
   },
   "file_extension": ".py",
   "mimetype": "text/x-python",
   "name": "python",
   "nbconvert_exporter": "python",
   "pygments_lexer": "ipython3",
   "version": "3.10.12"
  },
  "orig_nbformat": 4
 },
 "nbformat": 4,
 "nbformat_minor": 2
}
