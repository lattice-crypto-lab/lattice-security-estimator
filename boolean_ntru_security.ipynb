{
 "cells": [
  {
   "cell_type": "code",
   "execution_count": 35,
   "metadata": {},
   "outputs": [],
   "source": [
    "import math\n",
    "from estimator import *"
   ]
  },
  {
   "cell_type": "code",
   "execution_count": 36,
   "metadata": {},
   "outputs": [],
   "source": [
    "e = 3.20  # For LWE, RLWE and NTRU\n",
    "e_distribution = ND.DiscreteGaussian(e)\n",
    "# e_distribution = ND.CenteredBinomial(21)\n",
    "\n",
    "# LWE\n",
    "n = 512\n",
    "q = 1024\n",
    "\n",
    "# RLWE and NTRU\n",
    "N = n * 2\n",
    "# Q = 132120577\n",
    "Q = 67086337\n",
    "r_distribution = ND.Uniform(0, Q - 1)\n",
    "# r_distribution = ND.UniformMod(Q)\n",
    "\n",
    "# key switching\n",
    "e_key_switching = 3.20 * ((1 << 6) + (1 << 4))"
   ]
  },
  {
   "cell_type": "code",
   "execution_count": 37,
   "metadata": {},
   "outputs": [
    {
     "name": "stdout",
     "output_type": "stream",
     "text": [
      "LWEParameters(n=512, q=1024, Xs=D(σ=0.71), Xe=D(σ=3.20), m=+Infinity, tag=None)\n",
      "bkw                  :: rop: ≈2^155.1, m: ≈2^143.0, mem: ≈2^143.9, b: 14, t1: 0, t2: 15, ℓ: 13, #cod: 434, #top: 1, #test: 77, tag: coded-bkw\n",
      "usvp                 :: rop: ≈2^174.3, red: ≈2^174.3, δ: 1.003319, β: 518, d: 901, tag: usvp\n",
      "bdd                  :: rop: ≈2^170.7, red: ≈2^170.4, svp: ≈2^168.3, β: 504, η: 527, d: 875, tag: bdd\n",
      "dual                 :: rop: ≈2^184.3, mem: ≈2^121.5, m: 424, β: 550, d: 936, ↻: 1, tag: dual\n",
      "dual_hybrid          :: rop: ≈2^164.6, red: ≈2^164.2, guess: ≈2^162.5, β: 477, p: 3, ζ: 5, t: 85, β': 474, N: ≈2^98.1, m: 512\n",
      "lwe_security=155.05130476194728\n"
     ]
    }
   ],
   "source": [
    "lwe_param = LWE.Parameters(n=n, q=q, Xs=ND.SparseTernary(n, p=n // 4), Xe=e_distribution)\n",
    "print(lwe_param)\n",
    "try:\n",
    "    lwe_result = LWE.estimate(\n",
    "        lwe_param,\n",
    "        deny_list=(\n",
    "            # \"arora-gb\",\n",
    "            # \"bkw\",\n",
    "        ),\n",
    "        jobs=8,\n",
    "    )\n",
    "except:\n",
    "    print(\"e=\", e)\n",
    "    print(\"Error Occur!\")\n",
    "else:\n",
    "    lwe_security = min([math.log(res.get(\"rop\", 0), 2) for res in lwe_result.values()])\n",
    "    # print(\"n={}\".format(n))\n",
    "    # print(\"q={}\".format(q))\n",
    "    # print(\"e={}\".format(e))\n",
    "    print(\"lwe_security={}\".format(lwe_security))"
   ]
  },
  {
   "cell_type": "code",
   "execution_count": 38,
   "metadata": {},
   "outputs": [
    {
     "name": "stdout",
     "output_type": "stream",
     "text": [
      "LWEParameters(n=1024, q=67086337, Xs=D(σ=19366157.36, μ=33543168.00), Xe=D(σ=3.20), m=+Infinity, tag=None)\n",
      "bkw                  :: rop: ≈2^278.9, m: ≈2^264.5, mem: ≈2^265.5, b: 10, t1: 8, t2: 39, ℓ: 9, #cod: 885, #top: 0, #test: 60, tag: coded-bkw\n",
      "usvp                 :: rop: ≈2^145.6, red: ≈2^145.6, δ: 1.003934, β: 407, d: 2085, tag: usvp\n",
      "bdd                  :: rop: ≈2^143.6, red: ≈2^143.1, svp: ≈2^141.5, β: 398, η: 431, d: 2133, tag: bdd\n",
      "dual                 :: rop: ≈2^148.8, mem: ≈2^96.3, m: 1159, β: 415, d: 2183, ↻: 1, tag: dual\n",
      "dual_hybrid          :: rop: ≈2^147.9, red: ≈2^147.9, guess: ≈2^139.8, β: 412, p: 3, ζ: 10, t: 0, β': 419, N: ≈2^86.0, m: 1024\n",
      "rlwe_security=143.5521632380815\n"
     ]
    }
   ],
   "source": [
    "rlwe_param = LWE.Parameters(n=N, q=Q, Xs=r_distribution, Xe=e_distribution)\n",
    "print(rlwe_param)\n",
    "try:\n",
    "    # rlwe_result = LWE.estimate.rough(\n",
    "    #     rlwe_param,\n",
    "    #     jobs=8,\n",
    "    # )\n",
    "    # \"arora-gb\",\"bkw\",\"usvp\",\"bdd\",\"bdd_hybrid\",\"bdd_mitm_hybrid\",\"dual\",\"dual_hybrid\",\"dual_mitm_hybrid\"\n",
    "    rlwe_result = LWE.estimate(\n",
    "        rlwe_param,\n",
    "        deny_list=(\n",
    "            # \"arora-gb\",\n",
    "            # \"bkw\",\n",
    "        ),\n",
    "        jobs=8,\n",
    "    )\n",
    "except:\n",
    "    print(\"e=\", e)\n",
    "    print(\"Error Occur!\")\n",
    "else:\n",
    "    rlwe_security = min([math.log(res.get(\"rop\", 0), 2) for res in rlwe_result.values()])\n",
    "    # print(\"n={}\".format(n))\n",
    "    # print(\"N={}\".format(N))\n",
    "    print(\"rlwe_security={}\".format(rlwe_security))"
   ]
  },
  {
   "cell_type": "code",
   "execution_count": 39,
   "metadata": {},
   "outputs": [
    {
     "name": "stdout",
     "output_type": "stream",
     "text": [
      "NTRUParameters(n=1024, q=67086337, Xs=D(σ=0.71), Xe=D(σ=3.20), m=1024, tag=None, ntru_type='matrix')\n",
      "Algorithm functools.partial(<estimator.ntru_primal.PrimalDSD object at 0x7ff4d5bd7730>, red_cost_model=<estimator.reduction.MATZOV object at 0x7ff4d6136110>, red_shape_model='gsa') on NTRUParameters(n=1024, q=67086337, Xs=D(σ=0.71), Xe=D(σ=3.20), m=1024, tag=None, ntru_type='matrix') failed with Dense sublattice attack not supported for Xs != Xe\n",
      "usvp                 :: rop: ≈2^133.0, red: ≈2^133.0, δ: 1.004266, β: 362, d: 1912, tag: usvp\n",
      "bdd                  :: rop: ≈2^131.0, red: ≈2^130.5, svp: ≈2^129.3, β: 353, η: 387, d: 1906, tag: bdd\n",
      "bdd_hybrid           :: rop: ≈2^131.1, red: ≈2^130.6, svp: ≈2^129.3, β: 353, η: 387, ζ: 0, |S|: 1, d: 2048, prob: 1, ↻: 1, tag: hybrid\n",
      "bdd_mitm_hybrid      :: rop: ≈2^184.2, red: ≈2^183.4, svp: ≈2^183.1, β: 361, η: 2, ζ: 159, |S|: ≈2^221.3, d: 1889, prob: ≈2^-48.5, ↻: ≈2^50.7, tag: hybrid\n",
      "ntru_security=131.02362470967552\n"
     ]
    }
   ],
   "source": [
    "ntru_param = NTRU.Parameters(n=N, q=Q, Xs=ND.SparseTernary(n, p=n // 4), Xe=e_distribution, ntru_type=\"matrix\")\n",
    "print(ntru_param)\n",
    "try:\n",
    "    # ntru_result = NTRU.estimate.rough(\n",
    "    #     ntru_param,\n",
    "    #     jobs=8,\n",
    "    # )\n",
    "    # \"arora-gb\",\"bkw\",\"usvp\",\"bdd\",\"bdd_hybrid\",\"bdd_mitm_hybrid\",\"dual\",\"dual_hybrid\",\"dual_mitm_hybrid\"\n",
    "    ntru_result = NTRU.estimate(\n",
    "        ntru_param,\n",
    "        deny_list=(\n",
    "            # \"arora-gb\",\n",
    "            # \"bkw\",\n",
    "        ),\n",
    "        jobs=8,\n",
    "    )\n",
    "except:\n",
    "    print(\"e=\", e)\n",
    "    print(\"Error Occur!\")\n",
    "else:\n",
    "    ntru_security = min([math.log(res.get(\"rop\", 0), 2) for res in ntru_result.values()])\n",
    "    # print(\"n={}\".format(n))\n",
    "    # print(\"N={}\".format(N))\n",
    "    print(\"ntru_security={}\".format(ntru_security))"
   ]
  },
  {
   "cell_type": "code",
   "execution_count": 40,
   "metadata": {},
   "outputs": [
    {
     "name": "stdout",
     "output_type": "stream",
     "text": [
      "LWEParameters(n=512, q=67086337, Xs=D(σ=19366157.36, μ=33543168.00), Xe=D(σ=256.00), m=+Infinity, tag=None)\n",
      "bkw                  :: rop: ≈2^328.3, m: ≈2^315.7, mem: ≈2^316.7, b: 12, t1: 1, t2: 26, ℓ: 11, #cod: 478, #top: 0, #test: 27, tag: coded-bkw\n",
      "usvp                 :: rop: ≈2^131.3, red: ≈2^131.3, δ: 1.004298, β: 358, d: 1404, tag: usvp\n",
      "bdd                  :: rop: ≈2^128.9, red: ≈2^128.3, svp: ≈2^127.4, β: 347, η: 380, d: 1421, tag: bdd\n",
      "dual                 :: rop: ≈2^134.9, mem: ≈2^86.4, m: 968, β: 367, d: 1480, ↻: 1, tag: dual\n",
      "dual_hybrid          :: rop: ≈2^164.0, red: ≈2^164.0, guess: ≈2^123.6, β: 476, p: 3, ζ: 0, t: 0, β': 473, N: ≈2^97.3, m: 512\n",
      "key_switching_security=128.91063993841595\n"
     ]
    }
   ],
   "source": [
    "key_switching = LWE.Parameters(n=n, q=Q, Xs=r_distribution, Xe=ND.DiscreteGaussian(e_key_switching))\n",
    "print(key_switching)\n",
    "try:\n",
    "    # rlwe_result = LWE.estimate.rough(\n",
    "    #     key_switching,\n",
    "    #     jobs=8,\n",
    "    # )\n",
    "    # \"arora-gb\",\"bkw\",\"usvp\",\"bdd\",\"bdd_hybrid\",\"bdd_mitm_hybrid\",\"dual\",\"dual_hybrid\",\"dual_mitm_hybrid\"\n",
    "    rlwe_result = LWE.estimate(\n",
    "        key_switching,\n",
    "        deny_list=(\n",
    "            # \"arora-gb\",\n",
    "            # \"bkw\",\n",
    "        ),\n",
    "        jobs=8,\n",
    "    )\n",
    "except:\n",
    "    print(\"e=\", e)\n",
    "    print(\"Error Occur!\")\n",
    "else:\n",
    "    key_switching_security = min([math.log(res.get(\"rop\", 0), 2) for res in rlwe_result.values()])\n",
    "    # print(\"n={}\".format(n))\n",
    "    # print(\"N={}\".format(N))\n",
    "    print(\"key_switching_security={}\".format(key_switching_security))"
   ]
  }
 ],
 "metadata": {
  "kernelspec": {
   "display_name": "Python 3 (ipykernel)",
   "language": "python",
   "name": "python3"
  },
  "language_info": {
   "codemirror_mode": {
    "name": "ipython",
    "version": 3
   },
   "file_extension": ".py",
   "mimetype": "text/x-python",
   "name": "python",
   "nbconvert_exporter": "python",
   "pygments_lexer": "ipython3",
   "version": "3.10.12"
  }
 },
 "nbformat": 4,
 "nbformat_minor": 2
}
