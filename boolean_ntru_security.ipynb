{
 "cells": [
  {
   "cell_type": "code",
   "execution_count": 1,
   "metadata": {},
   "outputs": [],
   "source": [
    "import math\n",
    "from estimator import *"
   ]
  },
  {
   "cell_type": "code",
   "execution_count": 2,
   "metadata": {},
   "outputs": [],
   "source": [
    "e = 3.20  # For LWE, RLWE\n",
    "e_distribution = ND.DiscreteGaussian(e)\n",
    "# e_distribution = ND.CenteredBinomial(21)\n",
    "\n",
    "# LWE\n",
    "n = 512\n",
    "q = 1024\n",
    "\n",
    "# RLWE and NTRU\n",
    "N = n * 2\n",
    "Q = 132120577\n",
    "r_distribution = ND.Uniform(0, Q - 1)\n",
    "ntru_e = 3.20 * 2.15\n",
    "ntru_distribution = ND.DiscreteGaussian(ntru_e)\n",
    "# r_distribution = ND.UniformMod(Q)\n",
    "\n",
    "# key switching\n",
    "e_key_switching = 3.20 * (1 << 7)"
   ]
  },
  {
   "cell_type": "code",
   "execution_count": 3,
   "metadata": {},
   "outputs": [
    {
     "name": "stdout",
     "output_type": "stream",
     "text": [
      "LWEParameters(n=512, q=1024, Xs=D(σ=0.71), Xe=D(σ=3.20), m=+Infinity, tag=None)\n",
      "bkw                  :: rop: ≈2^155.1, m: ≈2^143.0, mem: ≈2^143.9, b: 14, t1: 0, t2: 15, ℓ: 13, #cod: 434, #top: 1, #test: 77, tag: coded-bkw\n",
      "usvp                 :: rop: ≈2^174.3, red: ≈2^174.3, δ: 1.003319, β: 518, d: 901, tag: usvp\n",
      "bdd                  :: rop: ≈2^170.7, red: ≈2^170.4, svp: ≈2^168.3, β: 504, η: 527, d: 875, tag: bdd\n",
      "dual                 :: rop: ≈2^184.3, mem: ≈2^121.5, m: 424, β: 550, d: 936, ↻: 1, tag: dual\n",
      "dual_hybrid          :: rop: ≈2^164.6, red: ≈2^164.2, guess: ≈2^162.5, β: 477, p: 3, ζ: 5, t: 85, β': 474, N: ≈2^98.1, m: 512\n",
      "lwe_security=155.05130476194728\n"
     ]
    }
   ],
   "source": [
    "lwe_param = LWE.Parameters(n=n, q=q, Xs=ND.SparseTernary(n, p=n // 4), Xe=e_distribution)\n",
    "print(lwe_param)\n",
    "try:\n",
    "    lwe_result = LWE.estimate(\n",
    "        lwe_param,\n",
    "        deny_list=(\n",
    "            # \"arora-gb\",\n",
    "            # \"bkw\",\n",
    "        ),\n",
    "        jobs=8,\n",
    "    )\n",
    "except:\n",
    "    print(\"e=\", e)\n",
    "    print(\"Error Occur!\")\n",
    "else:\n",
    "    lwe_security = min([math.log(res.get(\"rop\", 0), 2) for res in lwe_result.values()])\n",
    "    # print(\"n={}\".format(n))\n",
    "    # print(\"q={}\".format(q))\n",
    "    # print(\"e={}\".format(e))\n",
    "    print(\"lwe_security={}\".format(lwe_security))"
   ]
  },
  {
   "cell_type": "code",
   "execution_count": 4,
   "metadata": {},
   "outputs": [
    {
     "name": "stdout",
     "output_type": "stream",
     "text": [
      "LWEParameters(n=512, q=132120577, Xs=D(σ=38139925.35, μ=66060288.00), Xe=D(σ=409.60), m=+Infinity, tag=None)\n",
      "bkw                  :: rop: ≈2^446.6, m: ≈2^434.6, mem: ≈2^435.6, b: 16, t1: 0, t2: 16, ℓ: 15, #cod: 478, #top: 0, #test: 39, tag: coded-bkw\n",
      "usvp                 :: rop: ≈2^133.9, red: ≈2^133.9, δ: 1.004226, β: 367, d: 1471, tag: usvp\n",
      "bdd                  :: rop: ≈2^130.2, red: ≈2^129.5, svp: ≈2^128.8, β: 351, η: 385, d: 1478, tag: bdd\n",
      "dual                 :: rop: ≈2^135.5, mem: ≈2^86.8, m: 998, β: 369, d: 1510, ↻: 1, tag: dual\n",
      "dual_hybrid          :: rop: ≈2^169.9, red: ≈2^169.9, guess: ≈2^129.6, β: 497, p: 3, ζ: 0, t: 0, β': 493, N: ≈2^101.9, m: 512\n",
      "key_switching_security=130.16514603276957\n"
     ]
    }
   ],
   "source": [
    "key_switching = LWE.Parameters(n=n, q=Q, Xs=r_distribution, Xe=ND.DiscreteGaussian(e_key_switching))\n",
    "print(key_switching)\n",
    "try:\n",
    "    # rlwe_result = LWE.estimate.rough(\n",
    "    #     key_switching,\n",
    "    #     jobs=8,\n",
    "    # )\n",
    "    # \"arora-gb\",\"bkw\",\"usvp\",\"bdd\",\"bdd_hybrid\",\"bdd_mitm_hybrid\",\"dual\",\"dual_hybrid\",\"dual_mitm_hybrid\"\n",
    "    rlwe_result = LWE.estimate(\n",
    "        key_switching,\n",
    "        red_shape_model=Simulator.CN11,\n",
    "        deny_list=(\n",
    "            # \"arora-gb\",\n",
    "            # \"bkw\",\n",
    "        ),\n",
    "        jobs=8,\n",
    "    )\n",
    "except:\n",
    "    print(\"e=\", e)\n",
    "    print(\"Error Occur!\")\n",
    "else:\n",
    "    key_switching_security = min([math.log(res.get(\"rop\", 0), 2) for res in rlwe_result.values()])\n",
    "    # print(\"n={}\".format(n))\n",
    "    # print(\"N={}\".format(N))\n",
    "    print(\"key_switching_security={}\".format(key_switching_security))"
   ]
  },
  {
   "cell_type": "code",
   "execution_count": 3,
   "metadata": {},
   "outputs": [
    {
     "name": "stdout",
     "output_type": "stream",
     "text": [
      "NTRUParameters(n=1024, q=132120577, Xs=D(σ=6.88), Xe=D(σ=6.88), m=1024, tag=None, ntru_type='matrix')\n",
      "usvp                 :: rop: ≈2^156.6, red: ≈2^156.6, δ: 1.003685, β: 447, d: 2044, tag: usvp\n",
      "dsd                  :: rop: ≈2^128.4, red: ≈2^128.4, δ: 1.004408, β: 345, d: 2048, tag: dsd\n",
      "bdd                  :: rop: ≈2^152.7, red: ≈2^152.2, svp: ≈2^151.0, β: 431, η: 465, d: 2043, tag: bdd\n",
      "bdd_hybrid           :: rop: ≈2^152.6, red: ≈2^152.2, svp: ≈2^150.7, β: 431, η: 464, ζ: 0, |S|: 1, d: 2048, prob: 1, ↻: 1, tag: hybrid\n",
      "bdd_mitm_hybrid      :: rop: ≈2^304.6, red: ≈2^304.6, svp: ≈2^169.9, β: 447, η: 2, ζ: 0, |S|: 1, d: 2048, prob: ≈2^-145.7, ↻: ≈2^147.9, tag: hybrid\n",
      "ntru_security=128.415132087006\n"
     ]
    }
   ],
   "source": [
    "ntru_param = NTRU.Parameters(n=N, q=Q, Xs=ntru_distribution, Xe=ntru_distribution)\n",
    "print(ntru_param)\n",
    "try:\n",
    "    # ntru_result = NTRU.estimate.rough(\n",
    "    #     ntru_param,\n",
    "    #     jobs=8,\n",
    "    # )\n",
    "    # \"arora-gb\",\"bkw\",\"usvp\",\"bdd\",\"bdd_hybrid\",\"bdd_mitm_hybrid\",\"dual\",\"dual_hybrid\",\"dual_mitm_hybrid\"\n",
    "    ntru_result = NTRU.estimate(\n",
    "        ntru_param,\n",
    "        red_shape_model=Simulator.CN11,\n",
    "        deny_list=(\n",
    "            # \"arora-gb\",\n",
    "            # \"bkw\",\n",
    "        ),\n",
    "        jobs=8,\n",
    "    )\n",
    "except:\n",
    "    print(\"e=\", e)\n",
    "    print(\"Error Occur!\")\n",
    "else:\n",
    "    ntru_security = min([math.log(res.get(\"rop\", 0), 2) for res in ntru_result.values()])\n",
    "    # print(\"n={}\".format(n))\n",
    "    # print(\"N={}\".format(N))\n",
    "    print(\"ntru_security={}\".format(ntru_security))"
   ]
  }
 ],
 "metadata": {
  "kernelspec": {
   "display_name": "Python 3 (ipykernel)",
   "language": "python",
   "name": "python3"
  }
 },
 "nbformat": 4,
 "nbformat_minor": 2
}
