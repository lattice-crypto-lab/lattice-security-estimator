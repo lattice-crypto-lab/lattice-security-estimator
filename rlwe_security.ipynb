{
 "cells": [
  {
   "cell_type": "code",
   "execution_count": 3,
   "metadata": {},
   "outputs": [],
   "source": [
    "import math\n",
    "from estimator import *\n",
    "from sage.misc.table import table"
   ]
  },
  {
   "cell_type": "code",
   "execution_count": 4,
   "metadata": {},
   "outputs": [],
   "source": [
    "jobs = 16\n",
    "\n",
    "e = 3.20 # For LWE and RLWE\n",
    "e_distribution = ND.DiscreteGaussian(e)\n",
    "\n",
    "# LWE\n",
    "n = 780\n",
    "q = 1024\n",
    "\n",
    "lwe_key_distributionn = ND.SparseTernary(n, p=n // 4)\n",
    "\n",
    "# RLWE\n",
    "N = 1024\n",
    "Q = 132120577\n",
    "logQ = Q.nbits()\n",
    "\n",
    "# r_distribution = ND.Uniform(0, Q - 1)\n",
    "r_distribution = ND.UniformMod(Q)\n",
    "\n",
    "# key switching\n",
    "e_key_switching = 3.20 * (1 << 7)\n",
    "key_switching_key_distribution = ND.DiscreteGaussian(e_key_switching)"
   ]
  },
  {
   "cell_type": "code",
   "execution_count": 5,
   "metadata": {},
   "outputs": [
    {
     "name": "stdout",
     "output_type": "stream",
     "text": [
      "LWEParameters(n=780, q=1024, Xs=D(σ=0.71), Xe=D(σ=3.20), m=+Infinity, tag=None)\n",
      "bkw                  :: rop: ≈2^225.4, m: ≈2^212.9, mem: ≈2^213.9, b: 21, t1: 0, t2: 15, ℓ: 20, #cod: 661, #top: 0, #test: 120, tag: coded-bkw\n",
      "usvp                 :: rop: ≈2^262.3, red: ≈2^262.3, δ: 1.002347, β: 832, d: 1302, tag: usvp\n",
      "bdd                  :: rop: ≈2^259.0, red: ≈2^258.9, svp: ≈2^255.7, β: 820, η: 840, d: 1271, tag: bdd\n",
      "dual                 :: rop: ≈2^278.8, mem: ≈2^188.4, m: 596, β: 887, d: 1376, ↻: 1, tag: dual\n",
      "dual_hybrid          :: rop: ≈2^246.1, red: ≈2^245.8, guess: ≈2^243.6, β: 768, p: 3, ζ: 10, t: 130, β': 749, N: ≈2^154.9, m: 780\n",
      "+-------------------------++--------------------------+\n",
      "| n                       || 780                      |\n",
      "+-------------------------++--------------------------+\n",
      "| q                       || 1024                     |\n",
      "+-------------------------++--------------------------+\n",
      "| secret key distribution || D(σ=0.71, μ=0.00, n=780) |\n",
      "+-------------------------++--------------------------+\n",
      "| noise distribution      || D(σ=3.20, μ=0.00)        |\n",
      "+-------------------------++--------------------------+\n",
      "| lwe security            || 225.40005345546516       |\n",
      "+-------------------------++--------------------------+\n"
     ]
    }
   ],
   "source": [
    "lwe_param = LWE.Parameters(n=n, q=q, Xs=lwe_key_distributionn, Xe=e_distribution)\n",
    "print(lwe_param)\n",
    "try:\n",
    "    lwe_result = LWE.estimate(\n",
    "        lwe_param,\n",
    "        deny_list=(\n",
    "            # \"arora-gb\",\n",
    "            # \"bkw\",\n",
    "        ),\n",
    "        jobs=jobs,\n",
    "    )\n",
    "except Exception as err:\n",
    "    print(\"err=\", err)\n",
    "    print(\"Error Occur!\")\n",
    "else:\n",
    "    lwe_security = min([math.log(res.get(\"rop\", 0), 2) for res in lwe_result.values()])\n",
    "    header = [\"n\",\"q\",\"secret key distribution\",\"noise distribution\", \"lwe security\"]\n",
    "    data = [n,q,lwe_key_distributionn,e_distribution,lwe_security]\n",
    "    print(table(columns = [data], header_column = header, frame = True))"
   ]
  },
  {
   "cell_type": "code",
   "execution_count": 6,
   "metadata": {},
   "outputs": [
    {
     "name": "stdout",
     "output_type": "stream",
     "text": [
      "LWEParameters(n=1024, q=132120577, Xs=D(σ=38139925.35), Xe=D(σ=3.20), m=+Infinity, tag=None)\n",
      "bkw                  :: rop: ≈2^288.3, m: ≈2^274.2, mem: ≈2^275.2, b: 10, t1: 1, t2: 41, ℓ: 9, #cod: 950, #top: 0, #test: 64, tag: coded-bkw\n",
      "usvp                 :: rop: ≈2^139.5, red: ≈2^139.5, δ: 1.004089, β: 385, d: 2094, tag: usvp\n",
      "bdd                  :: rop: ≈2^137.7, red: ≈2^137.3, svp: ≈2^135.4, β: 377, η: 409, d: 2109, tag: bdd\n",
      "dual                 :: rop: ≈2^142.7, mem: ≈2^91.9, m: 1158, β: 393, d: 2182, ↻: 1, tag: dual\n",
      "dual_hybrid          :: rop: ≈2^141.9, red: ≈2^141.9, guess: ≈2^134.5, β: 390, p: 3, ζ: 10, t: 0, β': 399, N: ≈2^80.7, m: 1024\n",
      "+-------------------------++--------------------------+\n",
      "| N                       || 1024                     |\n",
      "+-------------------------++--------------------------+\n",
      "| logQ                    || 27                       |\n",
      "+-------------------------++--------------------------+\n",
      "| secret key distribution || D(σ=38139925.35, μ=0.00) |\n",
      "+-------------------------++--------------------------+\n",
      "| noise distribution      || D(σ=3.20, μ=0.00)        |\n",
      "+-------------------------++--------------------------+\n",
      "| rlwe security           || 137.65542864956117       |\n",
      "+-------------------------++--------------------------+\n"
     ]
    }
   ],
   "source": [
    "rlwe_param = LWE.Parameters(n=N, q=Q, Xs=r_distribution, Xe=e_distribution)\n",
    "print(rlwe_param)\n",
    "try:\n",
    "    # rlwe_result = LWE.estimate.rough(\n",
    "    #     rlwe_param,\n",
    "    #     jobs=jobs,\n",
    "    # )\n",
    "    # \"arora-gb\",\"bkw\",\"usvp\",\"bdd\",\"bdd_hybrid\",\"bdd_mitm_hybrid\",\"dual\",\"dual_hybrid\",\"dual_mitm_hybrid\"\n",
    "    rlwe_result = LWE.estimate(\n",
    "        rlwe_param,\n",
    "        # red_shape_model=Simulator.CN11,\n",
    "        deny_list=(\n",
    "            # \"arora-gb\",\n",
    "            # \"bkw\",\n",
    "        ),\n",
    "        jobs=jobs,\n",
    "    )\n",
    "except Exception as err:\n",
    "    print(\"err=\", err)\n",
    "    print(\"Error Occur!\")\n",
    "else:\n",
    "    rlwe_security = min([math.log(res.get(\"rop\", 0), 2) for res in rlwe_result.values()])\n",
    "    header = [\"N\",\"logQ\",\"secret key distribution\",\"noise distribution\", \"rlwe security\"]\n",
    "    data = [N,logQ,r_distribution,e_distribution,rlwe_security]\n",
    "    print(table(columns = [data], header_column = header, frame = True))"
   ]
  },
  {
   "cell_type": "code",
   "execution_count": 7,
   "metadata": {},
   "outputs": [
    {
     "name": "stdout",
     "output_type": "stream",
     "text": [
      "LWEParameters(n=780, q=132120577, Xs=D(σ=0.71), Xe=D(σ=409.60), m=+Infinity, tag=None)\n",
      "bkw                  :: rop: ≈2^183.6, m: ≈2^166.6, mem: ≈2^167.0, b: 6, t1: 0, t2: 35, ℓ: 5, #cod: 706, #top: 1, #test: 73, tag: coded-bkw\n",
      "usvp                 :: rop: ≈2^132.5, red: ≈2^132.5, δ: 1.004266, β: 362, d: 1456, tag: usvp\n",
      "bdd                  :: rop: ≈2^135.0, red: ≈2^135.0, svp: ≈2^129.0, β: 372, η: 386, d: 1277, tag: bdd\n",
      "dual                 :: rop: ≈2^136.3, mem: ≈2^87.4, m: 738, β: 372, d: 1518, ↻: 1, tag: dual\n",
      "dual_hybrid          :: rop: ≈2^128.4, red: ≈2^128.3, guess: ≈2^124.4, β: 343, p: 4, ζ: 20, t: 35, β': 353, N: ≈2^72.5, m: 780\n",
      "+----------------------------++--------------------------+\n",
      "| n                          || 780                      |\n",
      "+----------------------------++--------------------------+\n",
      "| logQ                       || 27                       |\n",
      "+----------------------------++--------------------------+\n",
      "| secret key distribution    || D(σ=0.71, μ=0.00, n=780) |\n",
      "+----------------------------++--------------------------+\n",
      "| noise distribution         || D(σ=409.60, μ=0.00)      |\n",
      "+----------------------------++--------------------------+\n",
      "| key switching key security || 128.42780928018465       |\n",
      "+----------------------------++--------------------------+\n"
     ]
    }
   ],
   "source": [
    "key_switching = LWE.Parameters(n=n, q=Q, Xs=lwe_key_distributionn, Xe=key_switching_key_distribution)\n",
    "print(key_switching)\n",
    "try:\n",
    "    # key_switching_result = LWE.estimate.rough(\n",
    "    #     key_switching,\n",
    "    #     jobs=jobs,\n",
    "    # )\n",
    "    # \"arora-gb\",\"bkw\",\"usvp\",\"bdd\",\"bdd_hybrid\",\"bdd_mitm_hybrid\",\"dual\",\"dual_hybrid\",\"dual_mitm_hybrid\"\n",
    "    key_switching_result = LWE.estimate(\n",
    "        key_switching,\n",
    "        # red_shape_model=Simulator.CN11,\n",
    "        deny_list=(\n",
    "            # \"arora-gb\",\n",
    "            # \"bkw\",\n",
    "        ),\n",
    "        jobs=jobs,\n",
    "    )\n",
    "except Exception as err:\n",
    "    print(\"err=\", err)\n",
    "    print(\"Error Occur!\")\n",
    "else:\n",
    "    key_switching_security = min([math.log(res.get(\"rop\", 0), 2) for res in key_switching_result.values()])\n",
    "    header = [\"n\",\"logQ\",\"secret key distribution\",\"noise distribution\", \"key switching key security\"]\n",
    "    data = [n,logQ,lwe_key_distributionn,key_switching_key_distribution,key_switching_security]\n",
    "    print(table(columns = [data], header_column = header, frame = True))"
   ]
  }
 ],
 "metadata": {
  "kernelspec": {
   "display_name": "SageMath 9.5",
   "language": "sage",
   "name": "sagemath"
  },
  "language_info": {
   "codemirror_mode": {
    "name": "ipython",
    "version": 3
   },
   "file_extension": ".py",
   "mimetype": "text/x-python",
   "name": "python",
   "nbconvert_exporter": "python",
   "pygments_lexer": "ipython3",
   "version": "3.11.2"
  }
 },
 "nbformat": 4,
 "nbformat_minor": 2
}
