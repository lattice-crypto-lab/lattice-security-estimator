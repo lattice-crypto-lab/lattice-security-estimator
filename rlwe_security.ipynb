{
 "cells": [
  {
   "cell_type": "code",
   "execution_count": 10,
   "metadata": {},
   "outputs": [],
   "source": [
    "import math\n",
    "from estimator import *\n",
    "from sage.misc.table import table"
   ]
  },
  {
   "cell_type": "code",
   "execution_count": 29,
   "metadata": {},
   "outputs": [
    {
     "name": "stdout",
     "output_type": "stream",
     "text": [
      "┌──────╥────┐\n",
      "│ logQ ║ 62 |\n",
      "└──────╨────┘\n"
     ]
    }
   ],
   "source": [
    "jobs = 16\n",
    "\n",
    "e = 3.20 * (2**39) # For LWE\n",
    "e_lwe_distribution = ND.DiscreteGaussian(e)\n",
    "\n",
    "# LWE\n",
    "n = 1024\n",
    "# q = 1024\n",
    "q = 2**64\n",
    "\n",
    "lwe_key_distributionn = ND.SparseBinary(n // 2, n)\n",
    "\n",
    "# RLWE\n",
    "N = 2 * n\n",
    "Q = 4611686018427322369\n",
    "logQ = Q.bit_length()\n",
    "\n",
    "# r_distribution = ND.Uniform(0, Q - 1)\n",
    "rlwe_key_distributionn = ND.SparseBinary(N // 2, N)\n",
    "e_rlwe_distribution = ND.DiscreteGaussian(3.20*(1<<10))\n",
    "# r_distribution = ND.UniformMod(Q)\n",
    "\n",
    "# key switching\n",
    "e_key_switching = 3.20 * (1 << 37)\n",
    "key_switching_key_distribution = ND.DiscreteGaussian(e_key_switching)\n",
    "\n",
    "header = [\"logQ\"]\n",
    "data = [logQ]\n",
    "print(table(columns = [data], header_column = header, frame = True))"
   ]
  },
  {
   "cell_type": "code",
   "execution_count": 8,
   "metadata": {},
   "outputs": [
    {
     "name": "stdout",
     "output_type": "stream",
     "text": [
      "LWEParameters(n=1024, q=18446744073709551616, Xs=D(σ=0.50, μ=0.50), Xe=D(σ=1759218604441.60), m=+Infinity, tag=None)\n",
      "bkw                  :: rop: ≈2^210.6, m: ≈2^196.4, mem: ≈2^197.4, b: 3, t1: 0, t2: 41, ℓ: 2, #cod: 943, #top: 0, #test: 82, tag: coded-bkw\n",
      "usvp                 :: rop: ≈2^135.4, red: ≈2^135.4, δ: 1.004194, β: 371, d: 1869, tag: usvp\n",
      "bdd                  :: rop: ≈2^155.7, red: ≈2^124.9, svp: ≈2^155.7, β: 333, η: 482, d: 1831, tag: bdd\n",
      "dual                 :: rop: ≈2^138.7, mem: ≈2^89.1, m: 936, β: 379, d: 1960, ↻: 1, tag: dual\n",
      "dual_hybrid          :: rop: ≈2^129.9, red: ≈2^129.9, guess: ≈2^123.2, β: 347, p: 2, ζ: 10, t: 90, β': 358, N: ≈2^74.0, m: 1024\n",
      "┌─────────────────────────╥───────────────────────────────┐\n",
      "│ n                       ║ 1024                          |\n",
      "├─────────────────────────╫───────────────────────────────┤\n",
      "│ q                       ║ 18446744073709551616          |\n",
      "├─────────────────────────╫───────────────────────────────┤\n",
      "│ secret key distribution ║ D(σ=0.50, μ=0.50, n=1024)     |\n",
      "├─────────────────────────╫───────────────────────────────┤\n",
      "│ noise distribution      ║ D(σ=1759218604441.60, μ=0.00) |\n",
      "├─────────────────────────╫───────────────────────────────┤\n",
      "│ lwe security            ║ 129.87701390941493            |\n",
      "└─────────────────────────╨───────────────────────────────┘\n"
     ]
    }
   ],
   "source": [
    "lwe_param = LWE.Parameters(n=n, q=q, Xs=lwe_key_distributionn, Xe=e_lwe_distribution)\n",
    "print(lwe_param)\n",
    "try:\n",
    "    lwe_result = LWE.estimate(\n",
    "        lwe_param,\n",
    "        deny_list=(\n",
    "            # \"arora-gb\",\n",
    "            # \"bkw\",\n",
    "        ),\n",
    "        jobs=jobs,\n",
    "    )\n",
    "except Exception as err:\n",
    "    print(\"err=\", err)\n",
    "    print(\"Error Occur!\")\n",
    "else:\n",
    "    lwe_security = min([math.log(res.get(\"rop\", 0), 2) for res in lwe_result.values()])\n",
    "    header = [\"n\",\"q\",\"secret key distribution\",\"noise distribution\", \"lwe security\"]\n",
    "    data = [n,q,lwe_key_distributionn,e_lwe_distribution,lwe_security]\n",
    "    print(table(columns = [data], header_column = header, frame = True))"
   ]
  },
  {
   "cell_type": "code",
   "execution_count": 20,
   "metadata": {},
   "outputs": [
    {
     "name": "stdout",
     "output_type": "stream",
     "text": [
      "LWEParameters(n=2048, q=4611686018427322369, Xs=D(σ=0.50, μ=0.50), Xe=D(σ=3276.80), m=+Infinity, tag=None)\n",
      "bkw                  :: rop: ≈2^331.3, m: ≈2^315.2, mem: ≈2^316.2, b: 5, t1: 0, t2: 75, ℓ: 4, #cod: 1884, #top: 0, #test: 165, tag: coded-bkw\n",
      "usvp                 :: rop: ≈2^130.6, red: ≈2^130.6, δ: 1.004373, β: 349, d: 3854, tag: usvp\n",
      "bdd                  :: rop: ≈2^131.0, red: ≈2^131.0, svp: ≈2^124.3, β: 351, η: 369, d: 3635, tag: bdd\n",
      "dual                 :: rop: ≈2^132.5, mem: ≈2^84.7, m: 1970, β: 352, d: 4018, ↻: 1, tag: dual\n",
      "dual_hybrid          :: rop: ≈2^128.1, red: ≈2^128.0, guess: ≈2^123.2, β: 336, p: 2, ζ: 10, t: 90, β': 352, N: ≈2^71.6, m: ≈2^11.0\n",
      "┌─────────────────────────╥───────────────────────────┐\n",
      "│ N                       ║ 2048                      |\n",
      "├─────────────────────────╫───────────────────────────┤\n",
      "│ Q                       ║ 4611686018427322369       |\n",
      "├─────────────────────────╫───────────────────────────┤\n",
      "│ logQ                    ║ 62                        |\n",
      "├─────────────────────────╫───────────────────────────┤\n",
      "│ secret key distribution ║ D(σ=0.50, μ=0.50, n=2048) |\n",
      "├─────────────────────────╫───────────────────────────┤\n",
      "│ noise distribution      ║ D(σ=3276.80, μ=0.00)      |\n",
      "├─────────────────────────╫───────────────────────────┤\n",
      "│ rlwe security           ║ 128.09555454456424        |\n",
      "└─────────────────────────╨───────────────────────────┘\n"
     ]
    }
   ],
   "source": [
    "rlwe_param = LWE.Parameters(n=N, q=Q, Xs=rlwe_key_distributionn, Xe=e_rlwe_distribution)\n",
    "print(rlwe_param)\n",
    "try:\n",
    "    # rlwe_result = LWE.estimate.rough(\n",
    "    #     rlwe_param,\n",
    "    #     jobs=jobs,\n",
    "    # )\n",
    "    # \"arora-gb\",\"bkw\",\"usvp\",\"bdd\",\"bdd_hybrid\",\"bdd_mitm_hybrid\",\"dual\",\"dual_hybrid\",\"dual_mitm_hybrid\"\n",
    "    rlwe_result = LWE.estimate(\n",
    "        rlwe_param,\n",
    "        # red_shape_model=Simulator.CN11,\n",
    "        deny_list=(\n",
    "            # \"arora-gb\",\n",
    "            # \"bkw\",\n",
    "        ),\n",
    "        jobs=jobs,\n",
    "    )\n",
    "except Exception as err:\n",
    "    print(\"err=\", err)\n",
    "    print(\"Error Occur!\")\n",
    "else:\n",
    "    rlwe_security = min([math.log(res.get(\"rop\", 0), 2) for res in rlwe_result.values()])\n",
    "    header = [\"N\",\"Q\",\"logQ\",\"secret key distribution\",\"noise distribution\", \"rlwe security\"]\n",
    "    data = [N,Q,logQ,rlwe_key_distributionn,e_rlwe_distribution,rlwe_security]\n",
    "    print(table(columns = [data], header_column = header, frame = True))"
   ]
  },
  {
   "cell_type": "code",
   "execution_count": 30,
   "metadata": {},
   "outputs": [
    {
     "name": "stdout",
     "output_type": "stream",
     "text": [
      "LWEParameters(n=1024, q=4611686018427322369, Xs=D(σ=0.50, μ=0.50), Xe=D(σ=439804651110.40), m=+Infinity, tag=None)\n",
      "bkw                  :: rop: ≈2^204.4, m: ≈2^190.3, mem: ≈2^191.3, b: 3, t1: 0, t2: 39, ℓ: 2, #cod: 934, #top: 0, #test: 90, tag: coded-bkw\n",
      "usvp                 :: rop: ≈2^135.4, red: ≈2^135.4, δ: 1.004194, β: 371, d: 1869, tag: usvp\n",
      "bdd                  :: rop: ≈2^156.0, red: ≈2^124.9, svp: ≈2^156.0, β: 333, η: 483, d: 1813, tag: bdd\n",
      "dual                 :: rop: ≈2^138.7, mem: ≈2^89.1, m: 936, β: 379, d: 1960, ↻: 1, tag: dual\n",
      "dual_hybrid          :: rop: ≈2^129.9, red: ≈2^129.9, guess: ≈2^123.2, β: 347, p: 2, ζ: 10, t: 90, β': 358, N: ≈2^74.0, m: 1024\n",
      "┌────────────────────────────╥──────────────────────────────┐\n",
      "│ n                          ║ 1024                         |\n",
      "├────────────────────────────╫──────────────────────────────┤\n",
      "│ logQ                       ║ 62                           |\n",
      "├────────────────────────────╫──────────────────────────────┤\n",
      "│ secret key distribution    ║ D(σ=0.50, μ=0.50, n=1024)    |\n",
      "├────────────────────────────╫──────────────────────────────┤\n",
      "│ noise distribution         ║ D(σ=439804651110.40, μ=0.00) |\n",
      "├────────────────────────────╫──────────────────────────────┤\n",
      "│ key switching key security ║ 129.87701390941493           |\n",
      "└────────────────────────────╨──────────────────────────────┘\n"
     ]
    }
   ],
   "source": [
    "key_switching = LWE.Parameters(n=n, q=Q, Xs=lwe_key_distributionn, Xe=key_switching_key_distribution)\n",
    "print(key_switching)\n",
    "try:\n",
    "    # key_switching_result = LWE.estimate.rough(\n",
    "    #     key_switching,\n",
    "    #     jobs=jobs,\n",
    "    # )\n",
    "    # \"arora-gb\",\"bkw\",\"usvp\",\"bdd\",\"bdd_hybrid\",\"bdd_mitm_hybrid\",\"dual\",\"dual_hybrid\",\"dual_mitm_hybrid\"\n",
    "    key_switching_result = LWE.estimate(\n",
    "        key_switching,\n",
    "        # red_shape_model=Simulator.CN11,\n",
    "        deny_list=(\n",
    "            # \"arora-gb\",\n",
    "            # \"bkw\",\n",
    "        ),\n",
    "        jobs=jobs,\n",
    "    )\n",
    "except Exception as err:\n",
    "    print(\"err=\", err)\n",
    "    print(\"Error Occur!\")\n",
    "else:\n",
    "    key_switching_security = min([math.log(res.get(\"rop\", 0), 2) for res in key_switching_result.values()])\n",
    "    header = [\"n\",\"logQ\",\"secret key distribution\",\"noise distribution\", \"key switching key security\"]\n",
    "    data = [n,logQ,lwe_key_distributionn,key_switching_key_distribution,key_switching_security]\n",
    "    print(table(columns = [data], header_column = header, frame = True))"
   ]
  }
 ],
 "metadata": {
  "kernelspec": {
   "display_name": "sage",
   "language": "python",
   "name": "python3"
  },
  "language_info": {
   "codemirror_mode": {
    "name": "ipython",
    "version": 3
   },
   "file_extension": ".py",
   "mimetype": "text/x-python",
   "name": "python",
   "nbconvert_exporter": "python",
   "pygments_lexer": "ipython3",
   "version": "3.11.10"
  }
 },
 "nbformat": 4,
 "nbformat_minor": 2
}
